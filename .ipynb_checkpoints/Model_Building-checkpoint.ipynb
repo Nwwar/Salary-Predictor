{
 "cells": [
  {
   "cell_type": "code",
   "execution_count": 27,
   "metadata": {
    "ExecuteTime": {
     "end_time": "2023-05-27T20:33:43.991446300Z",
     "start_time": "2023-05-27T20:33:43.980642100Z"
    }
   },
   "outputs": [],
   "source": [
    "import pandas as pd\n",
    "import numpy as np\n",
    "from sklearn.model_selection import train_test_split, cross_val_score\n",
    "from sklearn.preprocessing import StandardScaler\n",
    "from sklearn.metrics import mean_absolute_error, mean_squared_error, r2_score\n",
    "from sklearn.linear_model import LinearRegression\n",
    "from sklearn.neighbors import KNeighborsRegressor\n",
    "from sklearn.ensemble import RandomForestRegressor\n",
    "from sklearn.tree import DecisionTreeRegressor"
   ]
  },
  {
   "cell_type": "code",
   "execution_count": 28,
   "metadata": {
    "ExecuteTime": {
     "end_time": "2023-05-27T20:33:44.495051Z",
     "start_time": "2023-05-27T20:33:44.495051Z"
    }
   },
   "outputs": [],
   "source": [
    "# pip install pycaret"
   ]
  },
  {
   "cell_type": "code",
   "execution_count": 29,
   "metadata": {
    "ExecuteTime": {
     "end_time": "2023-05-27T20:33:44.949186800Z",
     "start_time": "2023-05-27T20:33:44.933564300Z"
    }
   },
   "outputs": [],
   "source": [
    "from pycaret.regression import *"
   ]
  },
  {
   "cell_type": "code",
   "execution_count": 30,
   "metadata": {
    "ExecuteTime": {
     "end_time": "2023-05-27T20:33:45.572722800Z",
     "start_time": "2023-05-27T20:33:45.546268Z"
    }
   },
   "outputs": [],
   "source": [
    "df = pd.read_csv('EDA_data.csv')"
   ]
  },
  {
   "cell_type": "code",
   "execution_count": 31,
   "metadata": {
    "ExecuteTime": {
     "end_time": "2023-05-27T20:33:46.064061500Z",
     "start_time": "2023-05-27T20:33:46.064061500Z"
    }
   },
   "outputs": [
    {
     "data": {
      "text/plain": [
       "dtype('float64')"
      ]
     },
     "execution_count": 31,
     "metadata": {},
     "output_type": "execute_result"
    }
   ],
   "source": [
    "# df['total_salary'] = df['total_salary'].astype(int)\n",
    "df['total_salary'].dtype"
   ]
  },
  {
   "cell_type": "code",
   "execution_count": 32,
   "metadata": {
    "ExecuteTime": {
     "end_time": "2023-05-27T20:33:46.615659900Z",
     "start_time": "2023-05-27T20:33:46.600036700Z"
    }
   },
   "outputs": [
    {
     "data": {
      "text/plain": [
       "120000.000000    54\n",
       "90000.000000     53\n",
       "60000.000000     52\n",
       "70000.000000     51\n",
       "80000.000000     50\n",
       "                 ..\n",
       "78550.807043      1\n",
       "102360.000000     1\n",
       "62800.000000      1\n",
       "90.000000         1\n",
       "119421.000000     1\n",
       "Name: total_salary, Length: 1188, dtype: int64"
      ]
     },
     "execution_count": 32,
     "metadata": {},
     "output_type": "execute_result"
    }
   ],
   "source": [
    "df['total_salary'].value_counts()"
   ]
  },
  {
   "cell_type": "code",
   "execution_count": 33,
   "metadata": {
    "ExecuteTime": {
     "end_time": "2023-05-27T20:33:47.290317700Z",
     "start_time": "2023-05-27T20:33:47.259004300Z"
    }
   },
   "outputs": [],
   "source": [
    "# we already dropped irrelevant features in the EDA part\n",
    "# get dummy data\n",
    "df_dummy = pd.get_dummies(df)"
   ]
  },
  {
   "cell_type": "code",
   "execution_count": 34,
   "metadata": {
    "ExecuteTime": {
     "end_time": "2023-05-27T20:33:47.763508Z",
     "start_time": "2023-05-27T20:33:47.763508Z"
    }
   },
   "outputs": [
    {
     "data": {
      "text/plain": [
       "385"
      ]
     },
     "execution_count": 34,
     "metadata": {},
     "output_type": "execute_result"
    }
   ],
   "source": [
    "len(df_dummy.columns)"
   ]
  },
  {
   "cell_type": "code",
   "execution_count": 35,
   "metadata": {
    "ExecuteTime": {
     "end_time": "2023-05-27T20:33:48.243737900Z",
     "start_time": "2023-05-27T20:33:48.228112300Z"
    }
   },
   "outputs": [],
   "source": [
    "# split the data\n",
    "X = df_dummy.drop('total_salary', axis=1)\n",
    "y = df_dummy['total_salary']\n",
    "\n",
    "X_train, X_test, y_train, y_test = train_test_split(X, y, test_size = 0.2, random_state=42)"
   ]
  },
  {
   "cell_type": "code",
   "execution_count": 36,
   "metadata": {
    "ExecuteTime": {
     "end_time": "2023-05-27T20:34:19.323667300Z",
     "start_time": "2023-05-27T20:34:14.839757900Z"
    }
   },
   "outputs": [
    {
     "data": {
      "text/html": [
       "<style type=\"text/css\">\n",
       "#T_2af21_row8_col1 {\n",
       "  background-color: lightgreen;\n",
       "}\n",
       "</style>\n",
       "<table id=\"T_2af21\">\n",
       "  <thead>\n",
       "    <tr>\n",
       "      <th class=\"blank level0\" >&nbsp;</th>\n",
       "      <th id=\"T_2af21_level0_col0\" class=\"col_heading level0 col0\" >Description</th>\n",
       "      <th id=\"T_2af21_level0_col1\" class=\"col_heading level0 col1\" >Value</th>\n",
       "    </tr>\n",
       "  </thead>\n",
       "  <tbody>\n",
       "    <tr>\n",
       "      <th id=\"T_2af21_level0_row0\" class=\"row_heading level0 row0\" >0</th>\n",
       "      <td id=\"T_2af21_row0_col0\" class=\"data row0 col0\" >Session id</td>\n",
       "      <td id=\"T_2af21_row0_col1\" class=\"data row0 col1\" >123</td>\n",
       "    </tr>\n",
       "    <tr>\n",
       "      <th id=\"T_2af21_level0_row1\" class=\"row_heading level0 row1\" >1</th>\n",
       "      <td id=\"T_2af21_row1_col0\" class=\"data row1 col0\" >Target</td>\n",
       "      <td id=\"T_2af21_row1_col1\" class=\"data row1 col1\" >total_salary</td>\n",
       "    </tr>\n",
       "    <tr>\n",
       "      <th id=\"T_2af21_level0_row2\" class=\"row_heading level0 row2\" >2</th>\n",
       "      <td id=\"T_2af21_row2_col0\" class=\"data row2 col0\" >Target type</td>\n",
       "      <td id=\"T_2af21_row2_col1\" class=\"data row2 col1\" >Regression</td>\n",
       "    </tr>\n",
       "    <tr>\n",
       "      <th id=\"T_2af21_level0_row3\" class=\"row_heading level0 row3\" >3</th>\n",
       "      <td id=\"T_2af21_row3_col0\" class=\"data row3 col0\" >Original data shape</td>\n",
       "      <td id=\"T_2af21_row3_col1\" class=\"data row3 col1\" >(3861, 385)</td>\n",
       "    </tr>\n",
       "    <tr>\n",
       "      <th id=\"T_2af21_level0_row4\" class=\"row_heading level0 row4\" >4</th>\n",
       "      <td id=\"T_2af21_row4_col0\" class=\"data row4 col0\" >Transformed data shape</td>\n",
       "      <td id=\"T_2af21_row4_col1\" class=\"data row4 col1\" >(3861, 385)</td>\n",
       "    </tr>\n",
       "    <tr>\n",
       "      <th id=\"T_2af21_level0_row5\" class=\"row_heading level0 row5\" >5</th>\n",
       "      <td id=\"T_2af21_row5_col0\" class=\"data row5 col0\" >Transformed train set shape</td>\n",
       "      <td id=\"T_2af21_row5_col1\" class=\"data row5 col1\" >(2702, 385)</td>\n",
       "    </tr>\n",
       "    <tr>\n",
       "      <th id=\"T_2af21_level0_row6\" class=\"row_heading level0 row6\" >6</th>\n",
       "      <td id=\"T_2af21_row6_col0\" class=\"data row6 col0\" >Transformed test set shape</td>\n",
       "      <td id=\"T_2af21_row6_col1\" class=\"data row6 col1\" >(1159, 385)</td>\n",
       "    </tr>\n",
       "    <tr>\n",
       "      <th id=\"T_2af21_level0_row7\" class=\"row_heading level0 row7\" >7</th>\n",
       "      <td id=\"T_2af21_row7_col0\" class=\"data row7 col0\" >Numeric features</td>\n",
       "      <td id=\"T_2af21_row7_col1\" class=\"data row7 col1\" >384</td>\n",
       "    </tr>\n",
       "    <tr>\n",
       "      <th id=\"T_2af21_level0_row8\" class=\"row_heading level0 row8\" >8</th>\n",
       "      <td id=\"T_2af21_row8_col0\" class=\"data row8 col0\" >Preprocess</td>\n",
       "      <td id=\"T_2af21_row8_col1\" class=\"data row8 col1\" >True</td>\n",
       "    </tr>\n",
       "    <tr>\n",
       "      <th id=\"T_2af21_level0_row9\" class=\"row_heading level0 row9\" >9</th>\n",
       "      <td id=\"T_2af21_row9_col0\" class=\"data row9 col0\" >Imputation type</td>\n",
       "      <td id=\"T_2af21_row9_col1\" class=\"data row9 col1\" >simple</td>\n",
       "    </tr>\n",
       "    <tr>\n",
       "      <th id=\"T_2af21_level0_row10\" class=\"row_heading level0 row10\" >10</th>\n",
       "      <td id=\"T_2af21_row10_col0\" class=\"data row10 col0\" >Numeric imputation</td>\n",
       "      <td id=\"T_2af21_row10_col1\" class=\"data row10 col1\" >mean</td>\n",
       "    </tr>\n",
       "    <tr>\n",
       "      <th id=\"T_2af21_level0_row11\" class=\"row_heading level0 row11\" >11</th>\n",
       "      <td id=\"T_2af21_row11_col0\" class=\"data row11 col0\" >Categorical imputation</td>\n",
       "      <td id=\"T_2af21_row11_col1\" class=\"data row11 col1\" >mode</td>\n",
       "    </tr>\n",
       "    <tr>\n",
       "      <th id=\"T_2af21_level0_row12\" class=\"row_heading level0 row12\" >12</th>\n",
       "      <td id=\"T_2af21_row12_col0\" class=\"data row12 col0\" >Fold Generator</td>\n",
       "      <td id=\"T_2af21_row12_col1\" class=\"data row12 col1\" >KFold</td>\n",
       "    </tr>\n",
       "    <tr>\n",
       "      <th id=\"T_2af21_level0_row13\" class=\"row_heading level0 row13\" >13</th>\n",
       "      <td id=\"T_2af21_row13_col0\" class=\"data row13 col0\" >Fold Number</td>\n",
       "      <td id=\"T_2af21_row13_col1\" class=\"data row13 col1\" >10</td>\n",
       "    </tr>\n",
       "    <tr>\n",
       "      <th id=\"T_2af21_level0_row14\" class=\"row_heading level0 row14\" >14</th>\n",
       "      <td id=\"T_2af21_row14_col0\" class=\"data row14 col0\" >CPU Jobs</td>\n",
       "      <td id=\"T_2af21_row14_col1\" class=\"data row14 col1\" >-1</td>\n",
       "    </tr>\n",
       "    <tr>\n",
       "      <th id=\"T_2af21_level0_row15\" class=\"row_heading level0 row15\" >15</th>\n",
       "      <td id=\"T_2af21_row15_col0\" class=\"data row15 col0\" >Use GPU</td>\n",
       "      <td id=\"T_2af21_row15_col1\" class=\"data row15 col1\" >False</td>\n",
       "    </tr>\n",
       "    <tr>\n",
       "      <th id=\"T_2af21_level0_row16\" class=\"row_heading level0 row16\" >16</th>\n",
       "      <td id=\"T_2af21_row16_col0\" class=\"data row16 col0\" >Log Experiment</td>\n",
       "      <td id=\"T_2af21_row16_col1\" class=\"data row16 col1\" >False</td>\n",
       "    </tr>\n",
       "    <tr>\n",
       "      <th id=\"T_2af21_level0_row17\" class=\"row_heading level0 row17\" >17</th>\n",
       "      <td id=\"T_2af21_row17_col0\" class=\"data row17 col0\" >Experiment Name</td>\n",
       "      <td id=\"T_2af21_row17_col1\" class=\"data row17 col1\" >reg-default-name</td>\n",
       "    </tr>\n",
       "    <tr>\n",
       "      <th id=\"T_2af21_level0_row18\" class=\"row_heading level0 row18\" >18</th>\n",
       "      <td id=\"T_2af21_row18_col0\" class=\"data row18 col0\" >USI</td>\n",
       "      <td id=\"T_2af21_row18_col1\" class=\"data row18 col1\" >ca20</td>\n",
       "    </tr>\n",
       "  </tbody>\n",
       "</table>\n"
      ],
      "text/plain": [
       "<pandas.io.formats.style.Styler at 0x1a449cb2bf0>"
      ]
     },
     "metadata": {},
     "output_type": "display_data"
    }
   ],
   "source": [
    "s = setup(df_dummy, target = 'total_salary', session_id = 123)"
   ]
  },
  {
   "cell_type": "code",
   "execution_count": 37,
   "metadata": {
    "ExecuteTime": {
     "end_time": "2023-05-27T20:35:05.054433600Z",
     "start_time": "2023-05-27T20:35:05.054433600Z"
    }
   },
   "outputs": [],
   "source": [
    "from pycaret.regression import RegressionExperiment\n",
    "exp = RegressionExperiment()"
   ]
  },
  {
   "cell_type": "code",
   "execution_count": 38,
   "metadata": {
    "ExecuteTime": {
     "end_time": "2023-05-27T20:35:18.640265Z",
     "start_time": "2023-05-27T20:35:18.624632600Z"
    }
   },
   "outputs": [
    {
     "data": {
      "text/plain": [
       "pycaret.regression.oop.RegressionExperiment"
      ]
     },
     "execution_count": 38,
     "metadata": {},
     "output_type": "execute_result"
    }
   ],
   "source": [
    "type(exp)"
   ]
  },
  {
   "cell_type": "code",
   "execution_count": 39,
   "metadata": {
    "ExecuteTime": {
     "end_time": "2023-05-27T20:35:52.342145200Z",
     "start_time": "2023-05-27T20:35:49.932030500Z"
    }
   },
   "outputs": [
    {
     "data": {
      "text/html": [
       "<style type=\"text/css\">\n",
       "#T_36ed4_row8_col1 {\n",
       "  background-color: lightgreen;\n",
       "}\n",
       "</style>\n",
       "<table id=\"T_36ed4\">\n",
       "  <thead>\n",
       "    <tr>\n",
       "      <th class=\"blank level0\" >&nbsp;</th>\n",
       "      <th id=\"T_36ed4_level0_col0\" class=\"col_heading level0 col0\" >Description</th>\n",
       "      <th id=\"T_36ed4_level0_col1\" class=\"col_heading level0 col1\" >Value</th>\n",
       "    </tr>\n",
       "  </thead>\n",
       "  <tbody>\n",
       "    <tr>\n",
       "      <th id=\"T_36ed4_level0_row0\" class=\"row_heading level0 row0\" >0</th>\n",
       "      <td id=\"T_36ed4_row0_col0\" class=\"data row0 col0\" >Session id</td>\n",
       "      <td id=\"T_36ed4_row0_col1\" class=\"data row0 col1\" >123</td>\n",
       "    </tr>\n",
       "    <tr>\n",
       "      <th id=\"T_36ed4_level0_row1\" class=\"row_heading level0 row1\" >1</th>\n",
       "      <td id=\"T_36ed4_row1_col0\" class=\"data row1 col0\" >Target</td>\n",
       "      <td id=\"T_36ed4_row1_col1\" class=\"data row1 col1\" >total_salary</td>\n",
       "    </tr>\n",
       "    <tr>\n",
       "      <th id=\"T_36ed4_level0_row2\" class=\"row_heading level0 row2\" >2</th>\n",
       "      <td id=\"T_36ed4_row2_col0\" class=\"data row2 col0\" >Target type</td>\n",
       "      <td id=\"T_36ed4_row2_col1\" class=\"data row2 col1\" >Regression</td>\n",
       "    </tr>\n",
       "    <tr>\n",
       "      <th id=\"T_36ed4_level0_row3\" class=\"row_heading level0 row3\" >3</th>\n",
       "      <td id=\"T_36ed4_row3_col0\" class=\"data row3 col0\" >Original data shape</td>\n",
       "      <td id=\"T_36ed4_row3_col1\" class=\"data row3 col1\" >(3861, 385)</td>\n",
       "    </tr>\n",
       "    <tr>\n",
       "      <th id=\"T_36ed4_level0_row4\" class=\"row_heading level0 row4\" >4</th>\n",
       "      <td id=\"T_36ed4_row4_col0\" class=\"data row4 col0\" >Transformed data shape</td>\n",
       "      <td id=\"T_36ed4_row4_col1\" class=\"data row4 col1\" >(3861, 385)</td>\n",
       "    </tr>\n",
       "    <tr>\n",
       "      <th id=\"T_36ed4_level0_row5\" class=\"row_heading level0 row5\" >5</th>\n",
       "      <td id=\"T_36ed4_row5_col0\" class=\"data row5 col0\" >Transformed train set shape</td>\n",
       "      <td id=\"T_36ed4_row5_col1\" class=\"data row5 col1\" >(2702, 385)</td>\n",
       "    </tr>\n",
       "    <tr>\n",
       "      <th id=\"T_36ed4_level0_row6\" class=\"row_heading level0 row6\" >6</th>\n",
       "      <td id=\"T_36ed4_row6_col0\" class=\"data row6 col0\" >Transformed test set shape</td>\n",
       "      <td id=\"T_36ed4_row6_col1\" class=\"data row6 col1\" >(1159, 385)</td>\n",
       "    </tr>\n",
       "    <tr>\n",
       "      <th id=\"T_36ed4_level0_row7\" class=\"row_heading level0 row7\" >7</th>\n",
       "      <td id=\"T_36ed4_row7_col0\" class=\"data row7 col0\" >Numeric features</td>\n",
       "      <td id=\"T_36ed4_row7_col1\" class=\"data row7 col1\" >384</td>\n",
       "    </tr>\n",
       "    <tr>\n",
       "      <th id=\"T_36ed4_level0_row8\" class=\"row_heading level0 row8\" >8</th>\n",
       "      <td id=\"T_36ed4_row8_col0\" class=\"data row8 col0\" >Preprocess</td>\n",
       "      <td id=\"T_36ed4_row8_col1\" class=\"data row8 col1\" >True</td>\n",
       "    </tr>\n",
       "    <tr>\n",
       "      <th id=\"T_36ed4_level0_row9\" class=\"row_heading level0 row9\" >9</th>\n",
       "      <td id=\"T_36ed4_row9_col0\" class=\"data row9 col0\" >Imputation type</td>\n",
       "      <td id=\"T_36ed4_row9_col1\" class=\"data row9 col1\" >simple</td>\n",
       "    </tr>\n",
       "    <tr>\n",
       "      <th id=\"T_36ed4_level0_row10\" class=\"row_heading level0 row10\" >10</th>\n",
       "      <td id=\"T_36ed4_row10_col0\" class=\"data row10 col0\" >Numeric imputation</td>\n",
       "      <td id=\"T_36ed4_row10_col1\" class=\"data row10 col1\" >mean</td>\n",
       "    </tr>\n",
       "    <tr>\n",
       "      <th id=\"T_36ed4_level0_row11\" class=\"row_heading level0 row11\" >11</th>\n",
       "      <td id=\"T_36ed4_row11_col0\" class=\"data row11 col0\" >Categorical imputation</td>\n",
       "      <td id=\"T_36ed4_row11_col1\" class=\"data row11 col1\" >mode</td>\n",
       "    </tr>\n",
       "    <tr>\n",
       "      <th id=\"T_36ed4_level0_row12\" class=\"row_heading level0 row12\" >12</th>\n",
       "      <td id=\"T_36ed4_row12_col0\" class=\"data row12 col0\" >Fold Generator</td>\n",
       "      <td id=\"T_36ed4_row12_col1\" class=\"data row12 col1\" >KFold</td>\n",
       "    </tr>\n",
       "    <tr>\n",
       "      <th id=\"T_36ed4_level0_row13\" class=\"row_heading level0 row13\" >13</th>\n",
       "      <td id=\"T_36ed4_row13_col0\" class=\"data row13 col0\" >Fold Number</td>\n",
       "      <td id=\"T_36ed4_row13_col1\" class=\"data row13 col1\" >10</td>\n",
       "    </tr>\n",
       "    <tr>\n",
       "      <th id=\"T_36ed4_level0_row14\" class=\"row_heading level0 row14\" >14</th>\n",
       "      <td id=\"T_36ed4_row14_col0\" class=\"data row14 col0\" >CPU Jobs</td>\n",
       "      <td id=\"T_36ed4_row14_col1\" class=\"data row14 col1\" >-1</td>\n",
       "    </tr>\n",
       "    <tr>\n",
       "      <th id=\"T_36ed4_level0_row15\" class=\"row_heading level0 row15\" >15</th>\n",
       "      <td id=\"T_36ed4_row15_col0\" class=\"data row15 col0\" >Use GPU</td>\n",
       "      <td id=\"T_36ed4_row15_col1\" class=\"data row15 col1\" >False</td>\n",
       "    </tr>\n",
       "    <tr>\n",
       "      <th id=\"T_36ed4_level0_row16\" class=\"row_heading level0 row16\" >16</th>\n",
       "      <td id=\"T_36ed4_row16_col0\" class=\"data row16 col0\" >Log Experiment</td>\n",
       "      <td id=\"T_36ed4_row16_col1\" class=\"data row16 col1\" >False</td>\n",
       "    </tr>\n",
       "    <tr>\n",
       "      <th id=\"T_36ed4_level0_row17\" class=\"row_heading level0 row17\" >17</th>\n",
       "      <td id=\"T_36ed4_row17_col0\" class=\"data row17 col0\" >Experiment Name</td>\n",
       "      <td id=\"T_36ed4_row17_col1\" class=\"data row17 col1\" >reg-default-name</td>\n",
       "    </tr>\n",
       "    <tr>\n",
       "      <th id=\"T_36ed4_level0_row18\" class=\"row_heading level0 row18\" >18</th>\n",
       "      <td id=\"T_36ed4_row18_col0\" class=\"data row18 col0\" >USI</td>\n",
       "      <td id=\"T_36ed4_row18_col1\" class=\"data row18 col1\" >b789</td>\n",
       "    </tr>\n",
       "  </tbody>\n",
       "</table>\n"
      ],
      "text/plain": [
       "<pandas.io.formats.style.Styler at 0x1a44d0605b0>"
      ]
     },
     "metadata": {},
     "output_type": "display_data"
    },
    {
     "data": {
      "text/plain": [
       "<pycaret.regression.oop.RegressionExperiment at 0x1a44d06dc30>"
      ]
     },
     "execution_count": 39,
     "metadata": {},
     "output_type": "execute_result"
    }
   ],
   "source": [
    "exp.setup(df_dummy, target = 'total_salary', session_id = 123)"
   ]
  },
  {
   "cell_type": "code",
   "execution_count": 40,
   "metadata": {
    "ExecuteTime": {
     "end_time": "2023-05-27T20:37:26.008786900Z",
     "start_time": "2023-05-27T20:36:08.859391200Z"
    }
   },
   "outputs": [
    {
     "data": {
      "text/html": [],
      "text/plain": [
       "<IPython.core.display.HTML object>"
      ]
     },
     "metadata": {},
     "output_type": "display_data"
    },
    {
     "data": {
      "text/html": [
       "<style type=\"text/css\">\n",
       "#T_0126b th {\n",
       "  text-align: left;\n",
       "}\n",
       "#T_0126b_row0_col0, #T_0126b_row0_col1, #T_0126b_row0_col5, #T_0126b_row0_col6, #T_0126b_row1_col0, #T_0126b_row1_col1, #T_0126b_row1_col2, #T_0126b_row1_col3, #T_0126b_row1_col4, #T_0126b_row1_col5, #T_0126b_row1_col6, #T_0126b_row2_col0, #T_0126b_row2_col2, #T_0126b_row2_col3, #T_0126b_row2_col4, #T_0126b_row2_col5, #T_0126b_row3_col0, #T_0126b_row3_col1, #T_0126b_row3_col2, #T_0126b_row3_col3, #T_0126b_row3_col4, #T_0126b_row3_col5, #T_0126b_row3_col6, #T_0126b_row4_col0, #T_0126b_row4_col1, #T_0126b_row4_col2, #T_0126b_row4_col3, #T_0126b_row4_col4, #T_0126b_row4_col5, #T_0126b_row4_col6, #T_0126b_row5_col0, #T_0126b_row5_col1, #T_0126b_row5_col2, #T_0126b_row5_col3, #T_0126b_row5_col4, #T_0126b_row5_col5, #T_0126b_row5_col6, #T_0126b_row6_col0, #T_0126b_row6_col1, #T_0126b_row6_col2, #T_0126b_row6_col3, #T_0126b_row6_col4, #T_0126b_row6_col6, #T_0126b_row7_col0, #T_0126b_row7_col1, #T_0126b_row7_col2, #T_0126b_row7_col3, #T_0126b_row7_col4, #T_0126b_row7_col5, #T_0126b_row7_col6, #T_0126b_row8_col0, #T_0126b_row8_col1, #T_0126b_row8_col2, #T_0126b_row8_col3, #T_0126b_row8_col4, #T_0126b_row8_col5, #T_0126b_row8_col6, #T_0126b_row9_col0, #T_0126b_row9_col1, #T_0126b_row9_col2, #T_0126b_row9_col3, #T_0126b_row9_col4, #T_0126b_row9_col5, #T_0126b_row9_col6, #T_0126b_row10_col0, #T_0126b_row10_col1, #T_0126b_row10_col2, #T_0126b_row10_col3, #T_0126b_row10_col4, #T_0126b_row10_col5, #T_0126b_row10_col6, #T_0126b_row11_col0, #T_0126b_row11_col1, #T_0126b_row11_col2, #T_0126b_row11_col3, #T_0126b_row11_col4, #T_0126b_row11_col5, #T_0126b_row11_col6, #T_0126b_row12_col0, #T_0126b_row12_col1, #T_0126b_row12_col2, #T_0126b_row12_col3, #T_0126b_row12_col4, #T_0126b_row12_col5, #T_0126b_row12_col6, #T_0126b_row13_col0, #T_0126b_row13_col1, #T_0126b_row13_col2, #T_0126b_row13_col3, #T_0126b_row13_col4, #T_0126b_row13_col5, #T_0126b_row13_col6, #T_0126b_row14_col0, #T_0126b_row14_col1, #T_0126b_row14_col2, #T_0126b_row14_col3, #T_0126b_row14_col4, #T_0126b_row14_col5, #T_0126b_row14_col6, #T_0126b_row15_col0, #T_0126b_row15_col1, #T_0126b_row15_col2, #T_0126b_row15_col3, #T_0126b_row15_col4, #T_0126b_row15_col5, #T_0126b_row15_col6, #T_0126b_row16_col0, #T_0126b_row16_col1, #T_0126b_row16_col2, #T_0126b_row16_col3, #T_0126b_row16_col4, #T_0126b_row16_col5, #T_0126b_row16_col6 {\n",
       "  text-align: left;\n",
       "}\n",
       "#T_0126b_row0_col2, #T_0126b_row0_col3, #T_0126b_row0_col4, #T_0126b_row2_col1, #T_0126b_row2_col6, #T_0126b_row6_col5 {\n",
       "  text-align: left;\n",
       "  background-color: yellow;\n",
       "}\n",
       "#T_0126b_row0_col7, #T_0126b_row1_col7, #T_0126b_row3_col7, #T_0126b_row4_col7, #T_0126b_row5_col7, #T_0126b_row6_col7, #T_0126b_row7_col7, #T_0126b_row8_col7, #T_0126b_row9_col7, #T_0126b_row10_col7, #T_0126b_row11_col7, #T_0126b_row12_col7, #T_0126b_row13_col7, #T_0126b_row14_col7, #T_0126b_row15_col7, #T_0126b_row16_col7 {\n",
       "  text-align: left;\n",
       "  background-color: lightgrey;\n",
       "}\n",
       "#T_0126b_row2_col7 {\n",
       "  text-align: left;\n",
       "  background-color: yellow;\n",
       "  background-color: lightgrey;\n",
       "}\n",
       "</style>\n",
       "<table id=\"T_0126b\">\n",
       "  <thead>\n",
       "    <tr>\n",
       "      <th class=\"blank level0\" >&nbsp;</th>\n",
       "      <th id=\"T_0126b_level0_col0\" class=\"col_heading level0 col0\" >Model</th>\n",
       "      <th id=\"T_0126b_level0_col1\" class=\"col_heading level0 col1\" >MAE</th>\n",
       "      <th id=\"T_0126b_level0_col2\" class=\"col_heading level0 col2\" >MSE</th>\n",
       "      <th id=\"T_0126b_level0_col3\" class=\"col_heading level0 col3\" >RMSE</th>\n",
       "      <th id=\"T_0126b_level0_col4\" class=\"col_heading level0 col4\" >R2</th>\n",
       "      <th id=\"T_0126b_level0_col5\" class=\"col_heading level0 col5\" >RMSLE</th>\n",
       "      <th id=\"T_0126b_level0_col6\" class=\"col_heading level0 col6\" >MAPE</th>\n",
       "      <th id=\"T_0126b_level0_col7\" class=\"col_heading level0 col7\" >TT (Sec)</th>\n",
       "    </tr>\n",
       "  </thead>\n",
       "  <tbody>\n",
       "    <tr>\n",
       "      <th id=\"T_0126b_level0_row0\" class=\"row_heading level0 row0\" >br</th>\n",
       "      <td id=\"T_0126b_row0_col0\" class=\"data row0 col0\" >Bayesian Ridge</td>\n",
       "      <td id=\"T_0126b_row0_col1\" class=\"data row0 col1\" >42460.3638</td>\n",
       "      <td id=\"T_0126b_row0_col2\" class=\"data row0 col2\" >7483131364.0172</td>\n",
       "      <td id=\"T_0126b_row0_col3\" class=\"data row0 col3\" >81808.9534</td>\n",
       "      <td id=\"T_0126b_row0_col4\" class=\"data row0 col4\" >0.3615</td>\n",
       "      <td id=\"T_0126b_row0_col5\" class=\"data row0 col5\" >0.5739</td>\n",
       "      <td id=\"T_0126b_row0_col6\" class=\"data row0 col6\" >3.1525</td>\n",
       "      <td id=\"T_0126b_row0_col7\" class=\"data row0 col7\" >0.0970</td>\n",
       "    </tr>\n",
       "    <tr>\n",
       "      <th id=\"T_0126b_level0_row1\" class=\"row_heading level0 row1\" >llar</th>\n",
       "      <td id=\"T_0126b_row1_col0\" class=\"data row1 col0\" >Lasso Least Angle Regression</td>\n",
       "      <td id=\"T_0126b_row1_col1\" class=\"data row1 col1\" >43732.7101</td>\n",
       "      <td id=\"T_0126b_row1_col2\" class=\"data row1 col2\" >7634676441.2623</td>\n",
       "      <td id=\"T_0126b_row1_col3\" class=\"data row1 col3\" >82867.0828</td>\n",
       "      <td id=\"T_0126b_row1_col4\" class=\"data row1 col4\" >0.3417</td>\n",
       "      <td id=\"T_0126b_row1_col5\" class=\"data row1 col5\" >0.6096</td>\n",
       "      <td id=\"T_0126b_row1_col6\" class=\"data row1 col6\" >3.1581</td>\n",
       "      <td id=\"T_0126b_row1_col7\" class=\"data row1 col7\" >0.1020</td>\n",
       "    </tr>\n",
       "    <tr>\n",
       "      <th id=\"T_0126b_level0_row2\" class=\"row_heading level0 row2\" >huber</th>\n",
       "      <td id=\"T_0126b_row2_col0\" class=\"data row2 col0\" >Huber Regressor</td>\n",
       "      <td id=\"T_0126b_row2_col1\" class=\"data row2 col1\" >36301.4209</td>\n",
       "      <td id=\"T_0126b_row2_col2\" class=\"data row2 col2\" >7851015910.3136</td>\n",
       "      <td id=\"T_0126b_row2_col3\" class=\"data row2 col3\" >83668.3782</td>\n",
       "      <td id=\"T_0126b_row2_col4\" class=\"data row2 col4\" >0.3349</td>\n",
       "      <td id=\"T_0126b_row2_col5\" class=\"data row2 col5\" >0.5147</td>\n",
       "      <td id=\"T_0126b_row2_col6\" class=\"data row2 col6\" >2.6569</td>\n",
       "      <td id=\"T_0126b_row2_col7\" class=\"data row2 col7\" >0.0840</td>\n",
       "    </tr>\n",
       "    <tr>\n",
       "      <th id=\"T_0126b_level0_row3\" class=\"row_heading level0 row3\" >omp</th>\n",
       "      <td id=\"T_0126b_row3_col0\" class=\"data row3 col0\" >Orthogonal Matching Pursuit</td>\n",
       "      <td id=\"T_0126b_row3_col1\" class=\"data row3 col1\" >44007.3236</td>\n",
       "      <td id=\"T_0126b_row3_col2\" class=\"data row3 col2\" >7743914614.8553</td>\n",
       "      <td id=\"T_0126b_row3_col3\" class=\"data row3 col3\" >83429.8044</td>\n",
       "      <td id=\"T_0126b_row3_col4\" class=\"data row3 col4\" >0.3331</td>\n",
       "      <td id=\"T_0126b_row3_col5\" class=\"data row3 col5\" >0.5845</td>\n",
       "      <td id=\"T_0126b_row3_col6\" class=\"data row3 col6\" >3.0864</td>\n",
       "      <td id=\"T_0126b_row3_col7\" class=\"data row3 col7\" >0.0950</td>\n",
       "    </tr>\n",
       "    <tr>\n",
       "      <th id=\"T_0126b_level0_row4\" class=\"row_heading level0 row4\" >ridge</th>\n",
       "      <td id=\"T_0126b_row4_col0\" class=\"data row4 col0\" >Ridge Regression</td>\n",
       "      <td id=\"T_0126b_row4_col1\" class=\"data row4 col1\" >44704.9273</td>\n",
       "      <td id=\"T_0126b_row4_col2\" class=\"data row4 col2\" >7706475855.4378</td>\n",
       "      <td id=\"T_0126b_row4_col3\" class=\"data row4 col3\" >83420.2512</td>\n",
       "      <td id=\"T_0126b_row4_col4\" class=\"data row4 col4\" >0.3312</td>\n",
       "      <td id=\"T_0126b_row4_col5\" class=\"data row4 col5\" >0.6697</td>\n",
       "      <td id=\"T_0126b_row4_col6\" class=\"data row4 col6\" >3.3653</td>\n",
       "      <td id=\"T_0126b_row4_col7\" class=\"data row4 col7\" >0.0890</td>\n",
       "    </tr>\n",
       "    <tr>\n",
       "      <th id=\"T_0126b_level0_row5\" class=\"row_heading level0 row5\" >lasso</th>\n",
       "      <td id=\"T_0126b_row5_col0\" class=\"data row5 col0\" >Lasso Regression</td>\n",
       "      <td id=\"T_0126b_row5_col1\" class=\"data row5 col1\" >46146.5705</td>\n",
       "      <td id=\"T_0126b_row5_col2\" class=\"data row5 col2\" >7940339242.6377</td>\n",
       "      <td id=\"T_0126b_row5_col3\" class=\"data row5 col3\" >85111.6958</td>\n",
       "      <td id=\"T_0126b_row5_col4\" class=\"data row5 col4\" >0.2979</td>\n",
       "      <td id=\"T_0126b_row5_col5\" class=\"data row5 col5\" >0.6834</td>\n",
       "      <td id=\"T_0126b_row5_col6\" class=\"data row5 col6\" >3.3937</td>\n",
       "      <td id=\"T_0126b_row5_col7\" class=\"data row5 col7\" >0.0910</td>\n",
       "    </tr>\n",
       "    <tr>\n",
       "      <th id=\"T_0126b_level0_row6\" class=\"row_heading level0 row6\" >par</th>\n",
       "      <td id=\"T_0126b_row6_col0\" class=\"data row6 col0\" >Passive Aggressive Regressor</td>\n",
       "      <td id=\"T_0126b_row6_col1\" class=\"data row6 col1\" >37591.6244</td>\n",
       "      <td id=\"T_0126b_row6_col2\" class=\"data row6 col2\" >8299966881.6554</td>\n",
       "      <td id=\"T_0126b_row6_col3\" class=\"data row6 col3\" >86497.0602</td>\n",
       "      <td id=\"T_0126b_row6_col4\" class=\"data row6 col4\" >0.2849</td>\n",
       "      <td id=\"T_0126b_row6_col5\" class=\"data row6 col5\" >0.5074</td>\n",
       "      <td id=\"T_0126b_row6_col6\" class=\"data row6 col6\" >2.6665</td>\n",
       "      <td id=\"T_0126b_row6_col7\" class=\"data row6 col7\" >0.0940</td>\n",
       "    </tr>\n",
       "    <tr>\n",
       "      <th id=\"T_0126b_level0_row7\" class=\"row_heading level0 row7\" >rf</th>\n",
       "      <td id=\"T_0126b_row7_col0\" class=\"data row7 col0\" >Random Forest Regressor</td>\n",
       "      <td id=\"T_0126b_row7_col1\" class=\"data row7 col1\" >41432.8350</td>\n",
       "      <td id=\"T_0126b_row7_col2\" class=\"data row7 col2\" >8270140824.5445</td>\n",
       "      <td id=\"T_0126b_row7_col3\" class=\"data row7 col3\" >86615.6095</td>\n",
       "      <td id=\"T_0126b_row7_col4\" class=\"data row7 col4\" >0.2690</td>\n",
       "      <td id=\"T_0126b_row7_col5\" class=\"data row7 col5\" >0.5305</td>\n",
       "      <td id=\"T_0126b_row7_col6\" class=\"data row7 col6\" >3.6905</td>\n",
       "      <td id=\"T_0126b_row7_col7\" class=\"data row7 col7\" >0.1330</td>\n",
       "    </tr>\n",
       "    <tr>\n",
       "      <th id=\"T_0126b_level0_row8\" class=\"row_heading level0 row8\" >gbr</th>\n",
       "      <td id=\"T_0126b_row8_col0\" class=\"data row8 col0\" >Gradient Boosting Regressor</td>\n",
       "      <td id=\"T_0126b_row8_col1\" class=\"data row8 col1\" >42775.4158</td>\n",
       "      <td id=\"T_0126b_row8_col2\" class=\"data row8 col2\" >8393056898.7026</td>\n",
       "      <td id=\"T_0126b_row8_col3\" class=\"data row8 col3\" >87094.3729</td>\n",
       "      <td id=\"T_0126b_row8_col4\" class=\"data row8 col4\" >0.2656</td>\n",
       "      <td id=\"T_0126b_row8_col5\" class=\"data row8 col5\" >0.5464</td>\n",
       "      <td id=\"T_0126b_row8_col6\" class=\"data row8 col6\" >3.4613</td>\n",
       "      <td id=\"T_0126b_row8_col7\" class=\"data row8 col7\" >0.1020</td>\n",
       "    </tr>\n",
       "    <tr>\n",
       "      <th id=\"T_0126b_level0_row9\" class=\"row_heading level0 row9\" >en</th>\n",
       "      <td id=\"T_0126b_row9_col0\" class=\"data row9 col0\" >Elastic Net</td>\n",
       "      <td id=\"T_0126b_row9_col1\" class=\"data row9 col1\" >49855.5541</td>\n",
       "      <td id=\"T_0126b_row9_col2\" class=\"data row9 col2\" >9306469450.1683</td>\n",
       "      <td id=\"T_0126b_row9_col3\" class=\"data row9 col3\" >92740.8135</td>\n",
       "      <td id=\"T_0126b_row9_col4\" class=\"data row9 col4\" >0.1640</td>\n",
       "      <td id=\"T_0126b_row9_col5\" class=\"data row9 col5\" >0.6164</td>\n",
       "      <td id=\"T_0126b_row9_col6\" class=\"data row9 col6\" >3.4736</td>\n",
       "      <td id=\"T_0126b_row9_col7\" class=\"data row9 col7\" >0.0910</td>\n",
       "    </tr>\n",
       "    <tr>\n",
       "      <th id=\"T_0126b_level0_row10\" class=\"row_heading level0 row10\" >knn</th>\n",
       "      <td id=\"T_0126b_row10_col0\" class=\"data row10 col0\" >K Neighbors Regressor</td>\n",
       "      <td id=\"T_0126b_row10_col1\" class=\"data row10 col1\" >51065.4039</td>\n",
       "      <td id=\"T_0126b_row10_col2\" class=\"data row10 col2\" >9296831744.0000</td>\n",
       "      <td id=\"T_0126b_row10_col3\" class=\"data row10 col3\" >92573.8297</td>\n",
       "      <td id=\"T_0126b_row10_col4\" class=\"data row10 col4\" >0.1638</td>\n",
       "      <td id=\"T_0126b_row10_col5\" class=\"data row10 col5\" >0.5982</td>\n",
       "      <td id=\"T_0126b_row10_col6\" class=\"data row10 col6\" >3.5764</td>\n",
       "      <td id=\"T_0126b_row10_col7\" class=\"data row10 col7\" >0.0970</td>\n",
       "    </tr>\n",
       "    <tr>\n",
       "      <th id=\"T_0126b_level0_row11\" class=\"row_heading level0 row11\" >dummy</th>\n",
       "      <td id=\"T_0126b_row11_col0\" class=\"data row11 col0\" >Dummy Regressor</td>\n",
       "      <td id=\"T_0126b_row11_col1\" class=\"data row11 col1\" >58211.7000</td>\n",
       "      <td id=\"T_0126b_row11_col2\" class=\"data row11 col2\" >10866289715.2000</td>\n",
       "      <td id=\"T_0126b_row11_col3\" class=\"data row11 col3\" >101004.6578</td>\n",
       "      <td id=\"T_0126b_row11_col4\" class=\"data row11 col4\" >-0.0044</td>\n",
       "      <td id=\"T_0126b_row11_col5\" class=\"data row11 col5\" >0.6904</td>\n",
       "      <td id=\"T_0126b_row11_col6\" class=\"data row11 col6\" >3.8653</td>\n",
       "      <td id=\"T_0126b_row11_col7\" class=\"data row11 col7\" >0.0880</td>\n",
       "    </tr>\n",
       "    <tr>\n",
       "      <th id=\"T_0126b_level0_row12\" class=\"row_heading level0 row12\" >et</th>\n",
       "      <td id=\"T_0126b_row12_col0\" class=\"data row12 col0\" >Extra Trees Regressor</td>\n",
       "      <td id=\"T_0126b_row12_col1\" class=\"data row12 col1\" >51017.5337</td>\n",
       "      <td id=\"T_0126b_row12_col2\" class=\"data row12 col2\" >11731965781.0003</td>\n",
       "      <td id=\"T_0126b_row12_col3\" class=\"data row12 col3\" >104692.1844</td>\n",
       "      <td id=\"T_0126b_row12_col4\" class=\"data row12 col4\" >-0.1193</td>\n",
       "      <td id=\"T_0126b_row12_col5\" class=\"data row12 col5\" >0.6692</td>\n",
       "      <td id=\"T_0126b_row12_col6\" class=\"data row12 col6\" >4.4700</td>\n",
       "      <td id=\"T_0126b_row12_col7\" class=\"data row12 col7\" >0.1340</td>\n",
       "    </tr>\n",
       "    <tr>\n",
       "      <th id=\"T_0126b_level0_row13\" class=\"row_heading level0 row13\" >dt</th>\n",
       "      <td id=\"T_0126b_row13_col0\" class=\"data row13 col0\" >Decision Tree Regressor</td>\n",
       "      <td id=\"T_0126b_row13_col1\" class=\"data row13 col1\" >53142.3257</td>\n",
       "      <td id=\"T_0126b_row13_col2\" class=\"data row13 col2\" >12836150650.5998</td>\n",
       "      <td id=\"T_0126b_row13_col3\" class=\"data row13 col3\" >110424.4253</td>\n",
       "      <td id=\"T_0126b_row13_col4\" class=\"data row13 col4\" >-0.3186</td>\n",
       "      <td id=\"T_0126b_row13_col5\" class=\"data row13 col5\" >0.7230</td>\n",
       "      <td id=\"T_0126b_row13_col6\" class=\"data row13 col6\" >4.6941</td>\n",
       "      <td id=\"T_0126b_row13_col7\" class=\"data row13 col7\" >0.0900</td>\n",
       "    </tr>\n",
       "    <tr>\n",
       "      <th id=\"T_0126b_level0_row14\" class=\"row_heading level0 row14\" >ada</th>\n",
       "      <td id=\"T_0126b_row14_col0\" class=\"data row14 col0\" >AdaBoost Regressor</td>\n",
       "      <td id=\"T_0126b_row14_col1\" class=\"data row14 col1\" >124086.0655</td>\n",
       "      <td id=\"T_0126b_row14_col2\" class=\"data row14 col2\" >27871464531.2557</td>\n",
       "      <td id=\"T_0126b_row14_col3\" class=\"data row14 col3\" >159113.2845</td>\n",
       "      <td id=\"T_0126b_row14_col4\" class=\"data row14 col4\" >-1.9791</td>\n",
       "      <td id=\"T_0126b_row14_col5\" class=\"data row14 col5\" >0.9637</td>\n",
       "      <td id=\"T_0126b_row14_col6\" class=\"data row14 col6\" >6.0563</td>\n",
       "      <td id=\"T_0126b_row14_col7\" class=\"data row14 col7\" >0.1000</td>\n",
       "    </tr>\n",
       "    <tr>\n",
       "      <th id=\"T_0126b_level0_row15\" class=\"row_heading level0 row15\" >lr</th>\n",
       "      <td id=\"T_0126b_row15_col0\" class=\"data row15 col0\" >Linear Regression</td>\n",
       "      <td id=\"T_0126b_row15_col1\" class=\"data row15 col1\" >4290793670833942.5000</td>\n",
       "      <td id=\"T_0126b_row15_col2\" class=\"data row15 col2\" >3869500324704465437063064355602432.0000</td>\n",
       "      <td id=\"T_0126b_row15_col3\" class=\"data row15 col3\" >46499893843701208.0000</td>\n",
       "      <td id=\"T_0126b_row15_col4\" class=\"data row15 col4\" >-488509830859744635518976.0000</td>\n",
       "      <td id=\"T_0126b_row15_col5\" class=\"data row15 col5\" >3.6215</td>\n",
       "      <td id=\"T_0126b_row15_col6\" class=\"data row15 col6\" >43734294080.9429</td>\n",
       "      <td id=\"T_0126b_row15_col7\" class=\"data row15 col7\" >0.0850</td>\n",
       "    </tr>\n",
       "    <tr>\n",
       "      <th id=\"T_0126b_level0_row16\" class=\"row_heading level0 row16\" >lar</th>\n",
       "      <td id=\"T_0126b_row16_col0\" class=\"data row16 col0\" >Least Angle Regression</td>\n",
       "      <td id=\"T_0126b_row16_col1\" class=\"data row16 col1\" >852498407638591859209535311855239481635792931092647436440452062331400310658636962416059179486186151851840484153508501701970226089055562770592358612588298240.0000</td>\n",
       "      <td id=\"T_0126b_row16_col2\" class=\"data row16 col2\" >inf</td>\n",
       "      <td id=\"T_0126b_row16_col3\" class=\"data row16 col3\" >inf</td>\n",
       "      <td id=\"T_0126b_row16_col4\" class=\"data row16 col4\" >-inf</td>\n",
       "      <td id=\"T_0126b_row16_col5\" class=\"data row16 col5\" >59.7714</td>\n",
       "      <td id=\"T_0126b_row16_col6\" class=\"data row16 col6\" >2131246019152115650750428820593893531160932193585745135159125106119561639286686770897394144640249888303733892700094179754361150795512168084854542434304.0000</td>\n",
       "      <td id=\"T_0126b_row16_col7\" class=\"data row16 col7\" >0.0920</td>\n",
       "    </tr>\n",
       "  </tbody>\n",
       "</table>\n"
      ],
      "text/plain": [
       "<pandas.io.formats.style.Styler at 0x1a449d02740>"
      ]
     },
     "metadata": {},
     "output_type": "display_data"
    },
    {
     "data": {
      "application/vnd.jupyter.widget-view+json": {
       "model_id": "",
       "version_major": 2,
       "version_minor": 0
      },
      "text/plain": [
       "Processing:   0%|          | 0/77 [00:00<?, ?it/s]"
      ]
     },
     "metadata": {},
     "output_type": "display_data"
    }
   ],
   "source": [
    "best = compare_models()"
   ]
  },
  {
   "cell_type": "code",
   "execution_count": 41,
   "metadata": {},
   "outputs": [
    {
     "data": {
      "text/html": [],
      "text/plain": [
       "<IPython.core.display.HTML object>"
      ]
     },
     "metadata": {},
     "output_type": "display_data"
    },
    {
     "data": {
      "text/html": [
       "<style type=\"text/css\">\n",
       "#T_1541a th {\n",
       "  text-align: left;\n",
       "}\n",
       "#T_1541a_row0_col0, #T_1541a_row0_col1, #T_1541a_row0_col5, #T_1541a_row0_col6, #T_1541a_row1_col0, #T_1541a_row1_col1, #T_1541a_row1_col2, #T_1541a_row1_col3, #T_1541a_row1_col4, #T_1541a_row1_col5, #T_1541a_row1_col6, #T_1541a_row2_col0, #T_1541a_row2_col2, #T_1541a_row2_col3, #T_1541a_row2_col4, #T_1541a_row2_col5, #T_1541a_row3_col0, #T_1541a_row3_col1, #T_1541a_row3_col2, #T_1541a_row3_col3, #T_1541a_row3_col4, #T_1541a_row3_col5, #T_1541a_row3_col6, #T_1541a_row4_col0, #T_1541a_row4_col1, #T_1541a_row4_col2, #T_1541a_row4_col3, #T_1541a_row4_col4, #T_1541a_row4_col5, #T_1541a_row4_col6, #T_1541a_row5_col0, #T_1541a_row5_col1, #T_1541a_row5_col2, #T_1541a_row5_col3, #T_1541a_row5_col4, #T_1541a_row5_col5, #T_1541a_row5_col6, #T_1541a_row6_col0, #T_1541a_row6_col1, #T_1541a_row6_col2, #T_1541a_row6_col3, #T_1541a_row6_col4, #T_1541a_row6_col6, #T_1541a_row7_col0, #T_1541a_row7_col1, #T_1541a_row7_col2, #T_1541a_row7_col3, #T_1541a_row7_col4, #T_1541a_row7_col5, #T_1541a_row7_col6, #T_1541a_row8_col0, #T_1541a_row8_col1, #T_1541a_row8_col2, #T_1541a_row8_col3, #T_1541a_row8_col4, #T_1541a_row8_col5, #T_1541a_row8_col6, #T_1541a_row9_col0, #T_1541a_row9_col1, #T_1541a_row9_col2, #T_1541a_row9_col3, #T_1541a_row9_col4, #T_1541a_row9_col5, #T_1541a_row9_col6, #T_1541a_row10_col0, #T_1541a_row10_col1, #T_1541a_row10_col2, #T_1541a_row10_col3, #T_1541a_row10_col4, #T_1541a_row10_col5, #T_1541a_row10_col6, #T_1541a_row11_col0, #T_1541a_row11_col1, #T_1541a_row11_col2, #T_1541a_row11_col3, #T_1541a_row11_col4, #T_1541a_row11_col5, #T_1541a_row11_col6, #T_1541a_row12_col0, #T_1541a_row12_col1, #T_1541a_row12_col2, #T_1541a_row12_col3, #T_1541a_row12_col4, #T_1541a_row12_col5, #T_1541a_row12_col6, #T_1541a_row13_col0, #T_1541a_row13_col1, #T_1541a_row13_col2, #T_1541a_row13_col3, #T_1541a_row13_col4, #T_1541a_row13_col5, #T_1541a_row13_col6, #T_1541a_row14_col0, #T_1541a_row14_col1, #T_1541a_row14_col2, #T_1541a_row14_col3, #T_1541a_row14_col4, #T_1541a_row14_col5, #T_1541a_row14_col6, #T_1541a_row15_col0, #T_1541a_row15_col1, #T_1541a_row15_col2, #T_1541a_row15_col3, #T_1541a_row15_col4, #T_1541a_row15_col5, #T_1541a_row15_col6, #T_1541a_row16_col0, #T_1541a_row16_col1, #T_1541a_row16_col2, #T_1541a_row16_col3, #T_1541a_row16_col4, #T_1541a_row16_col5, #T_1541a_row16_col6 {\n",
       "  text-align: left;\n",
       "}\n",
       "#T_1541a_row0_col2, #T_1541a_row0_col3, #T_1541a_row0_col4, #T_1541a_row2_col1, #T_1541a_row2_col6, #T_1541a_row6_col5 {\n",
       "  text-align: left;\n",
       "  background-color: yellow;\n",
       "}\n",
       "#T_1541a_row0_col7, #T_1541a_row6_col7, #T_1541a_row13_col7 {\n",
       "  text-align: left;\n",
       "  background-color: yellow;\n",
       "  background-color: lightgrey;\n",
       "}\n",
       "#T_1541a_row1_col7, #T_1541a_row2_col7, #T_1541a_row3_col7, #T_1541a_row4_col7, #T_1541a_row5_col7, #T_1541a_row7_col7, #T_1541a_row8_col7, #T_1541a_row9_col7, #T_1541a_row10_col7, #T_1541a_row11_col7, #T_1541a_row12_col7, #T_1541a_row14_col7, #T_1541a_row15_col7, #T_1541a_row16_col7 {\n",
       "  text-align: left;\n",
       "  background-color: lightgrey;\n",
       "}\n",
       "</style>\n",
       "<table id=\"T_1541a\">\n",
       "  <thead>\n",
       "    <tr>\n",
       "      <th class=\"blank level0\" >&nbsp;</th>\n",
       "      <th id=\"T_1541a_level0_col0\" class=\"col_heading level0 col0\" >Model</th>\n",
       "      <th id=\"T_1541a_level0_col1\" class=\"col_heading level0 col1\" >MAE</th>\n",
       "      <th id=\"T_1541a_level0_col2\" class=\"col_heading level0 col2\" >MSE</th>\n",
       "      <th id=\"T_1541a_level0_col3\" class=\"col_heading level0 col3\" >RMSE</th>\n",
       "      <th id=\"T_1541a_level0_col4\" class=\"col_heading level0 col4\" >R2</th>\n",
       "      <th id=\"T_1541a_level0_col5\" class=\"col_heading level0 col5\" >RMSLE</th>\n",
       "      <th id=\"T_1541a_level0_col6\" class=\"col_heading level0 col6\" >MAPE</th>\n",
       "      <th id=\"T_1541a_level0_col7\" class=\"col_heading level0 col7\" >TT (Sec)</th>\n",
       "    </tr>\n",
       "  </thead>\n",
       "  <tbody>\n",
       "    <tr>\n",
       "      <th id=\"T_1541a_level0_row0\" class=\"row_heading level0 row0\" >br</th>\n",
       "      <td id=\"T_1541a_row0_col0\" class=\"data row0 col0\" >Bayesian Ridge</td>\n",
       "      <td id=\"T_1541a_row0_col1\" class=\"data row0 col1\" >42460.3638</td>\n",
       "      <td id=\"T_1541a_row0_col2\" class=\"data row0 col2\" >7483131364.0172</td>\n",
       "      <td id=\"T_1541a_row0_col3\" class=\"data row0 col3\" >81808.9534</td>\n",
       "      <td id=\"T_1541a_row0_col4\" class=\"data row0 col4\" >0.3615</td>\n",
       "      <td id=\"T_1541a_row0_col5\" class=\"data row0 col5\" >0.5739</td>\n",
       "      <td id=\"T_1541a_row0_col6\" class=\"data row0 col6\" >3.1525</td>\n",
       "      <td id=\"T_1541a_row0_col7\" class=\"data row0 col7\" >0.0840</td>\n",
       "    </tr>\n",
       "    <tr>\n",
       "      <th id=\"T_1541a_level0_row1\" class=\"row_heading level0 row1\" >llar</th>\n",
       "      <td id=\"T_1541a_row1_col0\" class=\"data row1 col0\" >Lasso Least Angle Regression</td>\n",
       "      <td id=\"T_1541a_row1_col1\" class=\"data row1 col1\" >43732.7101</td>\n",
       "      <td id=\"T_1541a_row1_col2\" class=\"data row1 col2\" >7634676441.2623</td>\n",
       "      <td id=\"T_1541a_row1_col3\" class=\"data row1 col3\" >82867.0828</td>\n",
       "      <td id=\"T_1541a_row1_col4\" class=\"data row1 col4\" >0.3417</td>\n",
       "      <td id=\"T_1541a_row1_col5\" class=\"data row1 col5\" >0.6096</td>\n",
       "      <td id=\"T_1541a_row1_col6\" class=\"data row1 col6\" >3.1581</td>\n",
       "      <td id=\"T_1541a_row1_col7\" class=\"data row1 col7\" >0.0870</td>\n",
       "    </tr>\n",
       "    <tr>\n",
       "      <th id=\"T_1541a_level0_row2\" class=\"row_heading level0 row2\" >huber</th>\n",
       "      <td id=\"T_1541a_row2_col0\" class=\"data row2 col0\" >Huber Regressor</td>\n",
       "      <td id=\"T_1541a_row2_col1\" class=\"data row2 col1\" >36301.4209</td>\n",
       "      <td id=\"T_1541a_row2_col2\" class=\"data row2 col2\" >7851015910.3136</td>\n",
       "      <td id=\"T_1541a_row2_col3\" class=\"data row2 col3\" >83668.3782</td>\n",
       "      <td id=\"T_1541a_row2_col4\" class=\"data row2 col4\" >0.3349</td>\n",
       "      <td id=\"T_1541a_row2_col5\" class=\"data row2 col5\" >0.5147</td>\n",
       "      <td id=\"T_1541a_row2_col6\" class=\"data row2 col6\" >2.6569</td>\n",
       "      <td id=\"T_1541a_row2_col7\" class=\"data row2 col7\" >0.0850</td>\n",
       "    </tr>\n",
       "    <tr>\n",
       "      <th id=\"T_1541a_level0_row3\" class=\"row_heading level0 row3\" >omp</th>\n",
       "      <td id=\"T_1541a_row3_col0\" class=\"data row3 col0\" >Orthogonal Matching Pursuit</td>\n",
       "      <td id=\"T_1541a_row3_col1\" class=\"data row3 col1\" >44007.3236</td>\n",
       "      <td id=\"T_1541a_row3_col2\" class=\"data row3 col2\" >7743914614.8553</td>\n",
       "      <td id=\"T_1541a_row3_col3\" class=\"data row3 col3\" >83429.8044</td>\n",
       "      <td id=\"T_1541a_row3_col4\" class=\"data row3 col4\" >0.3331</td>\n",
       "      <td id=\"T_1541a_row3_col5\" class=\"data row3 col5\" >0.5845</td>\n",
       "      <td id=\"T_1541a_row3_col6\" class=\"data row3 col6\" >3.0864</td>\n",
       "      <td id=\"T_1541a_row3_col7\" class=\"data row3 col7\" >0.0860</td>\n",
       "    </tr>\n",
       "    <tr>\n",
       "      <th id=\"T_1541a_level0_row4\" class=\"row_heading level0 row4\" >ridge</th>\n",
       "      <td id=\"T_1541a_row4_col0\" class=\"data row4 col0\" >Ridge Regression</td>\n",
       "      <td id=\"T_1541a_row4_col1\" class=\"data row4 col1\" >44704.9273</td>\n",
       "      <td id=\"T_1541a_row4_col2\" class=\"data row4 col2\" >7706475855.4378</td>\n",
       "      <td id=\"T_1541a_row4_col3\" class=\"data row4 col3\" >83420.2512</td>\n",
       "      <td id=\"T_1541a_row4_col4\" class=\"data row4 col4\" >0.3312</td>\n",
       "      <td id=\"T_1541a_row4_col5\" class=\"data row4 col5\" >0.6697</td>\n",
       "      <td id=\"T_1541a_row4_col6\" class=\"data row4 col6\" >3.3653</td>\n",
       "      <td id=\"T_1541a_row4_col7\" class=\"data row4 col7\" >0.0930</td>\n",
       "    </tr>\n",
       "    <tr>\n",
       "      <th id=\"T_1541a_level0_row5\" class=\"row_heading level0 row5\" >lasso</th>\n",
       "      <td id=\"T_1541a_row5_col0\" class=\"data row5 col0\" >Lasso Regression</td>\n",
       "      <td id=\"T_1541a_row5_col1\" class=\"data row5 col1\" >46146.5705</td>\n",
       "      <td id=\"T_1541a_row5_col2\" class=\"data row5 col2\" >7940339242.6377</td>\n",
       "      <td id=\"T_1541a_row5_col3\" class=\"data row5 col3\" >85111.6958</td>\n",
       "      <td id=\"T_1541a_row5_col4\" class=\"data row5 col4\" >0.2979</td>\n",
       "      <td id=\"T_1541a_row5_col5\" class=\"data row5 col5\" >0.6834</td>\n",
       "      <td id=\"T_1541a_row5_col6\" class=\"data row5 col6\" >3.3937</td>\n",
       "      <td id=\"T_1541a_row5_col7\" class=\"data row5 col7\" >0.0860</td>\n",
       "    </tr>\n",
       "    <tr>\n",
       "      <th id=\"T_1541a_level0_row6\" class=\"row_heading level0 row6\" >par</th>\n",
       "      <td id=\"T_1541a_row6_col0\" class=\"data row6 col0\" >Passive Aggressive Regressor</td>\n",
       "      <td id=\"T_1541a_row6_col1\" class=\"data row6 col1\" >37591.6244</td>\n",
       "      <td id=\"T_1541a_row6_col2\" class=\"data row6 col2\" >8299966881.6554</td>\n",
       "      <td id=\"T_1541a_row6_col3\" class=\"data row6 col3\" >86497.0602</td>\n",
       "      <td id=\"T_1541a_row6_col4\" class=\"data row6 col4\" >0.2849</td>\n",
       "      <td id=\"T_1541a_row6_col5\" class=\"data row6 col5\" >0.5074</td>\n",
       "      <td id=\"T_1541a_row6_col6\" class=\"data row6 col6\" >2.6665</td>\n",
       "      <td id=\"T_1541a_row6_col7\" class=\"data row6 col7\" >0.0840</td>\n",
       "    </tr>\n",
       "    <tr>\n",
       "      <th id=\"T_1541a_level0_row7\" class=\"row_heading level0 row7\" >rf</th>\n",
       "      <td id=\"T_1541a_row7_col0\" class=\"data row7 col0\" >Random Forest Regressor</td>\n",
       "      <td id=\"T_1541a_row7_col1\" class=\"data row7 col1\" >41432.8350</td>\n",
       "      <td id=\"T_1541a_row7_col2\" class=\"data row7 col2\" >8270140824.5445</td>\n",
       "      <td id=\"T_1541a_row7_col3\" class=\"data row7 col3\" >86615.6095</td>\n",
       "      <td id=\"T_1541a_row7_col4\" class=\"data row7 col4\" >0.2690</td>\n",
       "      <td id=\"T_1541a_row7_col5\" class=\"data row7 col5\" >0.5305</td>\n",
       "      <td id=\"T_1541a_row7_col6\" class=\"data row7 col6\" >3.6905</td>\n",
       "      <td id=\"T_1541a_row7_col7\" class=\"data row7 col7\" >0.1120</td>\n",
       "    </tr>\n",
       "    <tr>\n",
       "      <th id=\"T_1541a_level0_row8\" class=\"row_heading level0 row8\" >gbr</th>\n",
       "      <td id=\"T_1541a_row8_col0\" class=\"data row8 col0\" >Gradient Boosting Regressor</td>\n",
       "      <td id=\"T_1541a_row8_col1\" class=\"data row8 col1\" >42775.4158</td>\n",
       "      <td id=\"T_1541a_row8_col2\" class=\"data row8 col2\" >8393056898.7026</td>\n",
       "      <td id=\"T_1541a_row8_col3\" class=\"data row8 col3\" >87094.3729</td>\n",
       "      <td id=\"T_1541a_row8_col4\" class=\"data row8 col4\" >0.2656</td>\n",
       "      <td id=\"T_1541a_row8_col5\" class=\"data row8 col5\" >0.5464</td>\n",
       "      <td id=\"T_1541a_row8_col6\" class=\"data row8 col6\" >3.4613</td>\n",
       "      <td id=\"T_1541a_row8_col7\" class=\"data row8 col7\" >0.0960</td>\n",
       "    </tr>\n",
       "    <tr>\n",
       "      <th id=\"T_1541a_level0_row9\" class=\"row_heading level0 row9\" >en</th>\n",
       "      <td id=\"T_1541a_row9_col0\" class=\"data row9 col0\" >Elastic Net</td>\n",
       "      <td id=\"T_1541a_row9_col1\" class=\"data row9 col1\" >49855.5541</td>\n",
       "      <td id=\"T_1541a_row9_col2\" class=\"data row9 col2\" >9306469450.1683</td>\n",
       "      <td id=\"T_1541a_row9_col3\" class=\"data row9 col3\" >92740.8135</td>\n",
       "      <td id=\"T_1541a_row9_col4\" class=\"data row9 col4\" >0.1640</td>\n",
       "      <td id=\"T_1541a_row9_col5\" class=\"data row9 col5\" >0.6164</td>\n",
       "      <td id=\"T_1541a_row9_col6\" class=\"data row9 col6\" >3.4736</td>\n",
       "      <td id=\"T_1541a_row9_col7\" class=\"data row9 col7\" >0.0970</td>\n",
       "    </tr>\n",
       "    <tr>\n",
       "      <th id=\"T_1541a_level0_row10\" class=\"row_heading level0 row10\" >knn</th>\n",
       "      <td id=\"T_1541a_row10_col0\" class=\"data row10 col0\" >K Neighbors Regressor</td>\n",
       "      <td id=\"T_1541a_row10_col1\" class=\"data row10 col1\" >51065.4039</td>\n",
       "      <td id=\"T_1541a_row10_col2\" class=\"data row10 col2\" >9296831744.0000</td>\n",
       "      <td id=\"T_1541a_row10_col3\" class=\"data row10 col3\" >92573.8297</td>\n",
       "      <td id=\"T_1541a_row10_col4\" class=\"data row10 col4\" >0.1638</td>\n",
       "      <td id=\"T_1541a_row10_col5\" class=\"data row10 col5\" >0.5982</td>\n",
       "      <td id=\"T_1541a_row10_col6\" class=\"data row10 col6\" >3.5764</td>\n",
       "      <td id=\"T_1541a_row10_col7\" class=\"data row10 col7\" >0.0940</td>\n",
       "    </tr>\n",
       "    <tr>\n",
       "      <th id=\"T_1541a_level0_row11\" class=\"row_heading level0 row11\" >dummy</th>\n",
       "      <td id=\"T_1541a_row11_col0\" class=\"data row11 col0\" >Dummy Regressor</td>\n",
       "      <td id=\"T_1541a_row11_col1\" class=\"data row11 col1\" >58211.7000</td>\n",
       "      <td id=\"T_1541a_row11_col2\" class=\"data row11 col2\" >10866289715.2000</td>\n",
       "      <td id=\"T_1541a_row11_col3\" class=\"data row11 col3\" >101004.6578</td>\n",
       "      <td id=\"T_1541a_row11_col4\" class=\"data row11 col4\" >-0.0044</td>\n",
       "      <td id=\"T_1541a_row11_col5\" class=\"data row11 col5\" >0.6904</td>\n",
       "      <td id=\"T_1541a_row11_col6\" class=\"data row11 col6\" >3.8653</td>\n",
       "      <td id=\"T_1541a_row11_col7\" class=\"data row11 col7\" >0.0910</td>\n",
       "    </tr>\n",
       "    <tr>\n",
       "      <th id=\"T_1541a_level0_row12\" class=\"row_heading level0 row12\" >et</th>\n",
       "      <td id=\"T_1541a_row12_col0\" class=\"data row12 col0\" >Extra Trees Regressor</td>\n",
       "      <td id=\"T_1541a_row12_col1\" class=\"data row12 col1\" >51017.5337</td>\n",
       "      <td id=\"T_1541a_row12_col2\" class=\"data row12 col2\" >11731965781.0003</td>\n",
       "      <td id=\"T_1541a_row12_col3\" class=\"data row12 col3\" >104692.1844</td>\n",
       "      <td id=\"T_1541a_row12_col4\" class=\"data row12 col4\" >-0.1193</td>\n",
       "      <td id=\"T_1541a_row12_col5\" class=\"data row12 col5\" >0.6692</td>\n",
       "      <td id=\"T_1541a_row12_col6\" class=\"data row12 col6\" >4.4700</td>\n",
       "      <td id=\"T_1541a_row12_col7\" class=\"data row12 col7\" >0.1180</td>\n",
       "    </tr>\n",
       "    <tr>\n",
       "      <th id=\"T_1541a_level0_row13\" class=\"row_heading level0 row13\" >dt</th>\n",
       "      <td id=\"T_1541a_row13_col0\" class=\"data row13 col0\" >Decision Tree Regressor</td>\n",
       "      <td id=\"T_1541a_row13_col1\" class=\"data row13 col1\" >53142.3257</td>\n",
       "      <td id=\"T_1541a_row13_col2\" class=\"data row13 col2\" >12836150650.5998</td>\n",
       "      <td id=\"T_1541a_row13_col3\" class=\"data row13 col3\" >110424.4253</td>\n",
       "      <td id=\"T_1541a_row13_col4\" class=\"data row13 col4\" >-0.3186</td>\n",
       "      <td id=\"T_1541a_row13_col5\" class=\"data row13 col5\" >0.7230</td>\n",
       "      <td id=\"T_1541a_row13_col6\" class=\"data row13 col6\" >4.6941</td>\n",
       "      <td id=\"T_1541a_row13_col7\" class=\"data row13 col7\" >0.0840</td>\n",
       "    </tr>\n",
       "    <tr>\n",
       "      <th id=\"T_1541a_level0_row14\" class=\"row_heading level0 row14\" >ada</th>\n",
       "      <td id=\"T_1541a_row14_col0\" class=\"data row14 col0\" >AdaBoost Regressor</td>\n",
       "      <td id=\"T_1541a_row14_col1\" class=\"data row14 col1\" >124086.0655</td>\n",
       "      <td id=\"T_1541a_row14_col2\" class=\"data row14 col2\" >27871464531.2557</td>\n",
       "      <td id=\"T_1541a_row14_col3\" class=\"data row14 col3\" >159113.2845</td>\n",
       "      <td id=\"T_1541a_row14_col4\" class=\"data row14 col4\" >-1.9791</td>\n",
       "      <td id=\"T_1541a_row14_col5\" class=\"data row14 col5\" >0.9637</td>\n",
       "      <td id=\"T_1541a_row14_col6\" class=\"data row14 col6\" >6.0563</td>\n",
       "      <td id=\"T_1541a_row14_col7\" class=\"data row14 col7\" >0.0890</td>\n",
       "    </tr>\n",
       "    <tr>\n",
       "      <th id=\"T_1541a_level0_row15\" class=\"row_heading level0 row15\" >lr</th>\n",
       "      <td id=\"T_1541a_row15_col0\" class=\"data row15 col0\" >Linear Regression</td>\n",
       "      <td id=\"T_1541a_row15_col1\" class=\"data row15 col1\" >4290793670833942.5000</td>\n",
       "      <td id=\"T_1541a_row15_col2\" class=\"data row15 col2\" >3869500324704465437063064355602432.0000</td>\n",
       "      <td id=\"T_1541a_row15_col3\" class=\"data row15 col3\" >46499893843701208.0000</td>\n",
       "      <td id=\"T_1541a_row15_col4\" class=\"data row15 col4\" >-488509830859744635518976.0000</td>\n",
       "      <td id=\"T_1541a_row15_col5\" class=\"data row15 col5\" >3.6215</td>\n",
       "      <td id=\"T_1541a_row15_col6\" class=\"data row15 col6\" >43734294080.9429</td>\n",
       "      <td id=\"T_1541a_row15_col7\" class=\"data row15 col7\" >0.0850</td>\n",
       "    </tr>\n",
       "    <tr>\n",
       "      <th id=\"T_1541a_level0_row16\" class=\"row_heading level0 row16\" >lar</th>\n",
       "      <td id=\"T_1541a_row16_col0\" class=\"data row16 col0\" >Least Angle Regression</td>\n",
       "      <td id=\"T_1541a_row16_col1\" class=\"data row16 col1\" >852498407638591859209535311855239481635792931092647436440452062331400310658636962416059179486186151851840484153508501701970226089055562770592358612588298240.0000</td>\n",
       "      <td id=\"T_1541a_row16_col2\" class=\"data row16 col2\" >inf</td>\n",
       "      <td id=\"T_1541a_row16_col3\" class=\"data row16 col3\" >inf</td>\n",
       "      <td id=\"T_1541a_row16_col4\" class=\"data row16 col4\" >-inf</td>\n",
       "      <td id=\"T_1541a_row16_col5\" class=\"data row16 col5\" >59.7714</td>\n",
       "      <td id=\"T_1541a_row16_col6\" class=\"data row16 col6\" >2131246019152115650750428820593893531160932193585745135159125106119561639286686770897394144640249888303733892700094179754361150795512168084854542434304.0000</td>\n",
       "      <td id=\"T_1541a_row16_col7\" class=\"data row16 col7\" >0.0910</td>\n",
       "    </tr>\n",
       "  </tbody>\n",
       "</table>\n"
      ],
      "text/plain": [
       "<pandas.io.formats.style.Styler at 0x1a44cda5990>"
      ]
     },
     "metadata": {},
     "output_type": "display_data"
    },
    {
     "data": {
      "application/vnd.jupyter.widget-view+json": {
       "model_id": "",
       "version_major": 2,
       "version_minor": 0
      },
      "text/plain": [
       "Processing:   0%|          | 0/77 [00:00<?, ?it/s]"
      ]
     },
     "metadata": {},
     "output_type": "display_data"
    },
    {
     "data": {
      "text/html": [
       "<style>#sk-container-id-1 {color: black;background-color: white;}#sk-container-id-1 pre{padding: 0;}#sk-container-id-1 div.sk-toggleable {background-color: white;}#sk-container-id-1 label.sk-toggleable__label {cursor: pointer;display: block;width: 100%;margin-bottom: 0;padding: 0.3em;box-sizing: border-box;text-align: center;}#sk-container-id-1 label.sk-toggleable__label-arrow:before {content: \"▸\";float: left;margin-right: 0.25em;color: #696969;}#sk-container-id-1 label.sk-toggleable__label-arrow:hover:before {color: black;}#sk-container-id-1 div.sk-estimator:hover label.sk-toggleable__label-arrow:before {color: black;}#sk-container-id-1 div.sk-toggleable__content {max-height: 0;max-width: 0;overflow: hidden;text-align: left;background-color: #f0f8ff;}#sk-container-id-1 div.sk-toggleable__content pre {margin: 0.2em;color: black;border-radius: 0.25em;background-color: #f0f8ff;}#sk-container-id-1 input.sk-toggleable__control:checked~div.sk-toggleable__content {max-height: 200px;max-width: 100%;overflow: auto;}#sk-container-id-1 input.sk-toggleable__control:checked~label.sk-toggleable__label-arrow:before {content: \"▾\";}#sk-container-id-1 div.sk-estimator input.sk-toggleable__control:checked~label.sk-toggleable__label {background-color: #d4ebff;}#sk-container-id-1 div.sk-label input.sk-toggleable__control:checked~label.sk-toggleable__label {background-color: #d4ebff;}#sk-container-id-1 input.sk-hidden--visually {border: 0;clip: rect(1px 1px 1px 1px);clip: rect(1px, 1px, 1px, 1px);height: 1px;margin: -1px;overflow: hidden;padding: 0;position: absolute;width: 1px;}#sk-container-id-1 div.sk-estimator {font-family: monospace;background-color: #f0f8ff;border: 1px dotted black;border-radius: 0.25em;box-sizing: border-box;margin-bottom: 0.5em;}#sk-container-id-1 div.sk-estimator:hover {background-color: #d4ebff;}#sk-container-id-1 div.sk-parallel-item::after {content: \"\";width: 100%;border-bottom: 1px solid gray;flex-grow: 1;}#sk-container-id-1 div.sk-label:hover label.sk-toggleable__label {background-color: #d4ebff;}#sk-container-id-1 div.sk-serial::before {content: \"\";position: absolute;border-left: 1px solid gray;box-sizing: border-box;top: 0;bottom: 0;left: 50%;z-index: 0;}#sk-container-id-1 div.sk-serial {display: flex;flex-direction: column;align-items: center;background-color: white;padding-right: 0.2em;padding-left: 0.2em;position: relative;}#sk-container-id-1 div.sk-item {position: relative;z-index: 1;}#sk-container-id-1 div.sk-parallel {display: flex;align-items: stretch;justify-content: center;background-color: white;position: relative;}#sk-container-id-1 div.sk-item::before, #sk-container-id-1 div.sk-parallel-item::before {content: \"\";position: absolute;border-left: 1px solid gray;box-sizing: border-box;top: 0;bottom: 0;left: 50%;z-index: -1;}#sk-container-id-1 div.sk-parallel-item {display: flex;flex-direction: column;z-index: 1;position: relative;background-color: white;}#sk-container-id-1 div.sk-parallel-item:first-child::after {align-self: flex-end;width: 50%;}#sk-container-id-1 div.sk-parallel-item:last-child::after {align-self: flex-start;width: 50%;}#sk-container-id-1 div.sk-parallel-item:only-child::after {width: 0;}#sk-container-id-1 div.sk-dashed-wrapped {border: 1px dashed gray;margin: 0 0.4em 0.5em 0.4em;box-sizing: border-box;padding-bottom: 0.4em;background-color: white;}#sk-container-id-1 div.sk-label label {font-family: monospace;font-weight: bold;display: inline-block;line-height: 1.2em;}#sk-container-id-1 div.sk-label-container {text-align: center;}#sk-container-id-1 div.sk-container {/* jupyter's `normalize.less` sets `[hidden] { display: none; }` but bootstrap.min.css set `[hidden] { display: none !important; }` so we also need the `!important` here to be able to override the default hidden behavior on the sphinx rendered scikit-learn.org. See: https://github.com/scikit-learn/scikit-learn/issues/21755 */display: inline-block !important;position: relative;}#sk-container-id-1 div.sk-text-repr-fallback {display: none;}</style><div id=\"sk-container-id-1\" class=\"sk-top-container\"><div class=\"sk-text-repr-fallback\"><pre>BayesianRidge()</pre><b>In a Jupyter environment, please rerun this cell to show the HTML representation or trust the notebook. <br />On GitHub, the HTML representation is unable to render, please try loading this page with nbviewer.org.</b></div><div class=\"sk-container\" hidden><div class=\"sk-item\"><div class=\"sk-estimator sk-toggleable\"><input class=\"sk-toggleable__control sk-hidden--visually\" id=\"sk-estimator-id-1\" type=\"checkbox\" checked><label for=\"sk-estimator-id-1\" class=\"sk-toggleable__label sk-toggleable__label-arrow\">BayesianRidge</label><div class=\"sk-toggleable__content\"><pre>BayesianRidge()</pre></div></div></div></div></div>"
      ],
      "text/plain": [
       "BayesianRidge()"
      ]
     },
     "execution_count": 41,
     "metadata": {},
     "output_type": "execute_result"
    }
   ],
   "source": [
    "exp.compare_models()"
   ]
  },
  {
   "cell_type": "code",
   "execution_count": null,
   "metadata": {},
   "outputs": [],
   "source": []
  }
 ],
 "metadata": {
  "kernelspec": {
   "display_name": "Python 3 (ipykernel)",
   "language": "python",
   "name": "python3"
  },
  "language_info": {
   "codemirror_mode": {
    "name": "ipython",
    "version": 3
   },
   "file_extension": ".py",
   "mimetype": "text/x-python",
   "name": "python",
   "nbconvert_exporter": "python",
   "pygments_lexer": "ipython3",
   "version": "3.10.9"
  }
 },
 "nbformat": 4,
 "nbformat_minor": 1
}
