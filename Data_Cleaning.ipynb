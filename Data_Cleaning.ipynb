{
 "cells": [
  {
   "cell_type": "code",
   "execution_count": 1,
   "metadata": {
    "collapsed": true,
    "ExecuteTime": {
     "end_time": "2023-06-22T12:28:59.189285800Z",
     "start_time": "2023-06-22T12:28:59.174219100Z"
    }
   },
   "outputs": [],
   "source": [
    "import pandas as pd\n",
    "import warnings\n",
    "warnings.filterwarnings(\"ignore\")"
   ]
  },
  {
   "cell_type": "code",
   "execution_count": 2,
   "outputs": [
    {
     "data": {
      "text/plain": "             Timestamp How old are you?  What industry do you work in?  \\\n0      4/27/2021 11:02            25-34   Education (Higher Education)   \n1      4/27/2021 11:02            25-34              Computing or Tech   \n2      4/27/2021 11:02            25-34  Accounting, Banking & Finance   \n3      4/27/2021 11:02            25-34                     Nonprofits   \n4      4/27/2021 11:02            25-34  Accounting, Banking & Finance   \n...                ...              ...                            ...   \n27956   4/18/2023 9:26            35-44              Computing or Tech   \n27957  4/21/2023 10:22            25-34                 Research / Gov   \n27958  4/24/2023 19:45            25-34  Accounting, Banking & Finance   \n27959  4/29/2023 15:24            18-24   Engineering or Manufacturing   \n27960   5/9/2023 17:57            45-54              Computing or Tech   \n\n                                      Job title  \\\n0            Research and Instruction Librarian   \n1      Change & Internal Communications Manager   \n2                          Marketing Specialist   \n3                               Program Manager   \n4                            Accounting Manager   \n...                                         ...   \n27956                             Porting Agent   \n27957                   Post-doctoral Associate   \n27958                               CRM Manager   \n27959                             Data Engineer   \n27960                       Junior Data Analyst   \n\n      If your job title needs additional context, please clarify here:  \\\n0                                                    NaN                 \n1                                                    NaN                 \n2                                                    NaN                 \n3                                                    NaN                 \n4                                                    NaN                 \n...                                                  ...                 \n27956     Port phone numbers from one carrier to another                 \n27957                         Research Scientist at NASA                 \n27958                                                NaN                 \n27959                                                NaN                 \n27960                                                NaN                 \n\n      What is your annual salary? (You'll indicate the currency in a later question. If you are part-time or hourly, please enter an annualized equivalent -- what you would earn if you worked the job 40 hours a week, 52 weeks a year.)  \\\n0                                                 55,000                                                                                                                                                                                     \n1                                                 54,600                                                                                                                                                                                     \n2                                                 34,000                                                                                                                                                                                     \n3                                                 62,000                                                                                                                                                                                     \n4                                                 60,000                                                                                                                                                                                     \n...                                                  ...                                                                                                                                                                                     \n27956                                              60000                                                                                                                                                                                     \n27957                                              83000                                                                                                                                                                                     \n27958                                              57000                                                                                                                                                                                     \n27959                                              10000                                                                                                                                                                                     \n27960                                              65000                                                                                                                                                                                     \n\n       How much additional monetary compensation do you get, if any (for example, bonuses or overtime in an average year)? Please only include monetary compensation here, not the value of benefits.  \\\n0                                                    0.0                                                                                                                                                \n1                                                 4000.0                                                                                                                                                \n2                                                    NaN                                                                                                                                                \n3                                                 3000.0                                                                                                                                                \n4                                                 7000.0                                                                                                                                                \n...                                                  ...                                                                                                                                                \n27956                                             5000.0                                                                                                                                                \n27957                                                NaN                                                                                                                                                \n27958                                                NaN                                                                                                                                                \n27959                                                NaN                                                                                                                                                \n27960                                                0.0                                                                                                                                                \n\n      Please indicate the currency  \\\n0                              USD   \n1                              GBP   \n2                              USD   \n3                              USD   \n4                              USD   \n...                            ...   \n27956                          USD   \n27957                          USD   \n27958                          GBP   \n27959                        Other   \n27960                          USD   \n\n      If \"Other,\" please indicate the currency here:   \\\n0                                                 NaN   \n1                                                 NaN   \n2                                                 NaN   \n3                                                 NaN   \n4                                                 NaN   \n...                                               ...   \n27956                                             NaN   \n27957                                             NaN   \n27958                                             NaN   \n27959                                             NaN   \n27960                                             NaN   \n\n      If your income needs additional context, please provide it here:  \\\n0                                                    NaN                 \n1                                                    NaN                 \n2                                                    NaN                 \n3                                                    NaN                 \n4                                                    NaN                 \n...                                                  ...                 \n27956                                                NaN                 \n27957                                                NaN                 \n27958                                                NaN                 \n27959                                                NaN                 \n27960                                                NaN                 \n\n      What country do you work in?  \\\n0                    United States   \n1                   United Kingdom   \n2                               US   \n3                              USA   \n4                               US   \n...                            ...   \n27956                United States   \n27957               United States    \n27958                           UK   \n27959                        India   \n27960                          USA   \n\n      If you're in the U.S., what state do you work in?  \\\n0                                         Massachusetts   \n1                                                   NaN   \n2                                             Tennessee   \n3                                             Wisconsin   \n4                                        South Carolina   \n...                                                 ...   \n27956                                           Georgia   \n27957                              District of Columbia   \n27958                                               NaN   \n27959                                               NaN   \n27960                                          Virginia   \n\n      What city do you work in?  \\\n0                        Boston   \n1                     Cambridge   \n2                   Chattanooga   \n3                     Milwaukee   \n4                    Greenville   \n...                         ...   \n27956                   Atlanta   \n27957                        Dc   \n27958                    London   \n27959                  Banglore   \n27960                  Richmond   \n\n      How many years of professional work experience do you have overall?  \\\n0                                              5-7 years                    \n1                                           8 - 10 years                    \n2                                            2 - 4 years                    \n3                                           8 - 10 years                    \n4                                           8 - 10 years                    \n...                                                  ...                    \n27956                                      21 - 30 years                    \n27957                                        2 - 4 years                    \n27958                                          5-7 years                    \n27959                                     1 year or less                    \n27960                                      21 - 30 years                    \n\n      How many years of professional work experience do you have in your field?  \\\n0                                              5-7 years                          \n1                                              5-7 years                          \n2                                            2 - 4 years                          \n3                                              5-7 years                          \n4                                              5-7 years                          \n...                                                  ...                          \n27956                                        2 - 4 years                          \n27957                                        2 - 4 years                          \n27958                                        2 - 4 years                          \n27959                                     1 year or less                          \n27960                                     1 year or less                          \n\n      What is your highest level of education completed? What is your gender?  \\\n0                                        Master's degree                Woman   \n1                                         College degree           Non-binary   \n2                                         College degree                Woman   \n3                                         College degree                Woman   \n4                                         College degree                Woman   \n...                                                  ...                  ...   \n27956                                       Some college                  Man   \n27957                                                PhD                  Man   \n27958                                       Some college                Woman   \n27959                                                NaN                  Man   \n27960                                     College degree                  Man   \n\n      What is your race? (Choose all that apply.)  \n0                                           White  \n1                                           White  \n2                                           White  \n3                                           White  \n4                                           White  \n...                                           ...  \n27956         Hispanic, Latino, or Spanish origin  \n27957                                       White  \n27958                                       White  \n27959                     Asian or Asian American  \n27960                                       White  \n\n[27961 rows x 18 columns]",
      "text/html": "<div>\n<style scoped>\n    .dataframe tbody tr th:only-of-type {\n        vertical-align: middle;\n    }\n\n    .dataframe tbody tr th {\n        vertical-align: top;\n    }\n\n    .dataframe thead th {\n        text-align: right;\n    }\n</style>\n<table border=\"1\" class=\"dataframe\">\n  <thead>\n    <tr style=\"text-align: right;\">\n      <th></th>\n      <th>Timestamp</th>\n      <th>How old are you?</th>\n      <th>What industry do you work in?</th>\n      <th>Job title</th>\n      <th>If your job title needs additional context, please clarify here:</th>\n      <th>What is your annual salary? (You'll indicate the currency in a later question. If you are part-time or hourly, please enter an annualized equivalent -- what you would earn if you worked the job 40 hours a week, 52 weeks a year.)</th>\n      <th>How much additional monetary compensation do you get, if any (for example, bonuses or overtime in an average year)? Please only include monetary compensation here, not the value of benefits.</th>\n      <th>Please indicate the currency</th>\n      <th>If \"Other,\" please indicate the currency here:</th>\n      <th>If your income needs additional context, please provide it here:</th>\n      <th>What country do you work in?</th>\n      <th>If you're in the U.S., what state do you work in?</th>\n      <th>What city do you work in?</th>\n      <th>How many years of professional work experience do you have overall?</th>\n      <th>How many years of professional work experience do you have in your field?</th>\n      <th>What is your highest level of education completed?</th>\n      <th>What is your gender?</th>\n      <th>What is your race? (Choose all that apply.)</th>\n    </tr>\n  </thead>\n  <tbody>\n    <tr>\n      <th>0</th>\n      <td>4/27/2021 11:02</td>\n      <td>25-34</td>\n      <td>Education (Higher Education)</td>\n      <td>Research and Instruction Librarian</td>\n      <td>NaN</td>\n      <td>55,000</td>\n      <td>0.0</td>\n      <td>USD</td>\n      <td>NaN</td>\n      <td>NaN</td>\n      <td>United States</td>\n      <td>Massachusetts</td>\n      <td>Boston</td>\n      <td>5-7 years</td>\n      <td>5-7 years</td>\n      <td>Master's degree</td>\n      <td>Woman</td>\n      <td>White</td>\n    </tr>\n    <tr>\n      <th>1</th>\n      <td>4/27/2021 11:02</td>\n      <td>25-34</td>\n      <td>Computing or Tech</td>\n      <td>Change &amp; Internal Communications Manager</td>\n      <td>NaN</td>\n      <td>54,600</td>\n      <td>4000.0</td>\n      <td>GBP</td>\n      <td>NaN</td>\n      <td>NaN</td>\n      <td>United Kingdom</td>\n      <td>NaN</td>\n      <td>Cambridge</td>\n      <td>8 - 10 years</td>\n      <td>5-7 years</td>\n      <td>College degree</td>\n      <td>Non-binary</td>\n      <td>White</td>\n    </tr>\n    <tr>\n      <th>2</th>\n      <td>4/27/2021 11:02</td>\n      <td>25-34</td>\n      <td>Accounting, Banking &amp; Finance</td>\n      <td>Marketing Specialist</td>\n      <td>NaN</td>\n      <td>34,000</td>\n      <td>NaN</td>\n      <td>USD</td>\n      <td>NaN</td>\n      <td>NaN</td>\n      <td>US</td>\n      <td>Tennessee</td>\n      <td>Chattanooga</td>\n      <td>2 - 4 years</td>\n      <td>2 - 4 years</td>\n      <td>College degree</td>\n      <td>Woman</td>\n      <td>White</td>\n    </tr>\n    <tr>\n      <th>3</th>\n      <td>4/27/2021 11:02</td>\n      <td>25-34</td>\n      <td>Nonprofits</td>\n      <td>Program Manager</td>\n      <td>NaN</td>\n      <td>62,000</td>\n      <td>3000.0</td>\n      <td>USD</td>\n      <td>NaN</td>\n      <td>NaN</td>\n      <td>USA</td>\n      <td>Wisconsin</td>\n      <td>Milwaukee</td>\n      <td>8 - 10 years</td>\n      <td>5-7 years</td>\n      <td>College degree</td>\n      <td>Woman</td>\n      <td>White</td>\n    </tr>\n    <tr>\n      <th>4</th>\n      <td>4/27/2021 11:02</td>\n      <td>25-34</td>\n      <td>Accounting, Banking &amp; Finance</td>\n      <td>Accounting Manager</td>\n      <td>NaN</td>\n      <td>60,000</td>\n      <td>7000.0</td>\n      <td>USD</td>\n      <td>NaN</td>\n      <td>NaN</td>\n      <td>US</td>\n      <td>South Carolina</td>\n      <td>Greenville</td>\n      <td>8 - 10 years</td>\n      <td>5-7 years</td>\n      <td>College degree</td>\n      <td>Woman</td>\n      <td>White</td>\n    </tr>\n    <tr>\n      <th>...</th>\n      <td>...</td>\n      <td>...</td>\n      <td>...</td>\n      <td>...</td>\n      <td>...</td>\n      <td>...</td>\n      <td>...</td>\n      <td>...</td>\n      <td>...</td>\n      <td>...</td>\n      <td>...</td>\n      <td>...</td>\n      <td>...</td>\n      <td>...</td>\n      <td>...</td>\n      <td>...</td>\n      <td>...</td>\n      <td>...</td>\n    </tr>\n    <tr>\n      <th>27956</th>\n      <td>4/18/2023 9:26</td>\n      <td>35-44</td>\n      <td>Computing or Tech</td>\n      <td>Porting Agent</td>\n      <td>Port phone numbers from one carrier to another</td>\n      <td>60000</td>\n      <td>5000.0</td>\n      <td>USD</td>\n      <td>NaN</td>\n      <td>NaN</td>\n      <td>United States</td>\n      <td>Georgia</td>\n      <td>Atlanta</td>\n      <td>21 - 30 years</td>\n      <td>2 - 4 years</td>\n      <td>Some college</td>\n      <td>Man</td>\n      <td>Hispanic, Latino, or Spanish origin</td>\n    </tr>\n    <tr>\n      <th>27957</th>\n      <td>4/21/2023 10:22</td>\n      <td>25-34</td>\n      <td>Research / Gov</td>\n      <td>Post-doctoral Associate</td>\n      <td>Research Scientist at NASA</td>\n      <td>83000</td>\n      <td>NaN</td>\n      <td>USD</td>\n      <td>NaN</td>\n      <td>NaN</td>\n      <td>United States</td>\n      <td>District of Columbia</td>\n      <td>Dc</td>\n      <td>2 - 4 years</td>\n      <td>2 - 4 years</td>\n      <td>PhD</td>\n      <td>Man</td>\n      <td>White</td>\n    </tr>\n    <tr>\n      <th>27958</th>\n      <td>4/24/2023 19:45</td>\n      <td>25-34</td>\n      <td>Accounting, Banking &amp; Finance</td>\n      <td>CRM Manager</td>\n      <td>NaN</td>\n      <td>57000</td>\n      <td>NaN</td>\n      <td>GBP</td>\n      <td>NaN</td>\n      <td>NaN</td>\n      <td>UK</td>\n      <td>NaN</td>\n      <td>London</td>\n      <td>5-7 years</td>\n      <td>2 - 4 years</td>\n      <td>Some college</td>\n      <td>Woman</td>\n      <td>White</td>\n    </tr>\n    <tr>\n      <th>27959</th>\n      <td>4/29/2023 15:24</td>\n      <td>18-24</td>\n      <td>Engineering or Manufacturing</td>\n      <td>Data Engineer</td>\n      <td>NaN</td>\n      <td>10000</td>\n      <td>NaN</td>\n      <td>Other</td>\n      <td>NaN</td>\n      <td>NaN</td>\n      <td>India</td>\n      <td>NaN</td>\n      <td>Banglore</td>\n      <td>1 year or less</td>\n      <td>1 year or less</td>\n      <td>NaN</td>\n      <td>Man</td>\n      <td>Asian or Asian American</td>\n    </tr>\n    <tr>\n      <th>27960</th>\n      <td>5/9/2023 17:57</td>\n      <td>45-54</td>\n      <td>Computing or Tech</td>\n      <td>Junior Data Analyst</td>\n      <td>NaN</td>\n      <td>65000</td>\n      <td>0.0</td>\n      <td>USD</td>\n      <td>NaN</td>\n      <td>NaN</td>\n      <td>USA</td>\n      <td>Virginia</td>\n      <td>Richmond</td>\n      <td>21 - 30 years</td>\n      <td>1 year or less</td>\n      <td>College degree</td>\n      <td>Man</td>\n      <td>White</td>\n    </tr>\n  </tbody>\n</table>\n<p>27961 rows × 18 columns</p>\n</div>"
     },
     "execution_count": 2,
     "metadata": {},
     "output_type": "execute_result"
    }
   ],
   "source": [
    "df = pd.read_csv('Ask A Manager Salary Survey 2021 (Responses) - Form Responses 1.csv')\n",
    "df"
   ],
   "metadata": {
    "collapsed": false,
    "ExecuteTime": {
     "end_time": "2023-06-22T12:28:59.330354900Z",
     "start_time": "2023-06-22T12:28:59.190802Z"
    }
   }
  },
  {
   "cell_type": "markdown",
   "source": [
    "# Data Cleaning\n",
    "### we will go through each column and clean it"
   ],
   "metadata": {
    "collapsed": false
   }
  },
  {
   "cell_type": "markdown",
   "source": [
    "## Age column"
   ],
   "metadata": {
    "collapsed": false
   }
  },
  {
   "cell_type": "code",
   "execution_count": 3,
   "outputs": [],
   "source": [
    "#Age column doesn't need to be cleaned, but we will rename it to Age to make it easier to work with\n",
    "df['Age'] = df['How old are you?']\n",
    "df.drop('How old are you?', axis = 1, inplace = True)"
   ],
   "metadata": {
    "collapsed": false,
    "ExecuteTime": {
     "end_time": "2023-06-22T12:28:59.345409Z",
     "start_time": "2023-06-22T12:28:59.331863400Z"
    }
   }
  },
  {
   "cell_type": "code",
   "execution_count": 4,
   "outputs": [
    {
     "data": {
      "text/plain": "0        25-34\n1        25-34\n2        25-34\n3        25-34\n4        25-34\n         ...  \n27956    35-44\n27957    25-34\n27958    25-34\n27959    18-24\n27960    45-54\nName: Age, Length: 27961, dtype: object"
     },
     "execution_count": 4,
     "metadata": {},
     "output_type": "execute_result"
    }
   ],
   "source": [
    "df['Age']"
   ],
   "metadata": {
    "collapsed": false,
    "ExecuteTime": {
     "end_time": "2023-06-22T12:28:59.391511400Z",
     "start_time": "2023-06-22T12:28:59.349416800Z"
    }
   }
  },
  {
   "cell_type": "code",
   "execution_count": 5,
   "outputs": [
    {
     "data": {
      "text/plain": "Index(['Timestamp', 'What industry do you work in?', 'Job title',\n       'If your job title needs additional context, please clarify here:',\n       'What is your annual salary? (You'll indicate the currency in a later question. If you are part-time or hourly, please enter an annualized equivalent -- what you would earn if you worked the job 40 hours a week, 52 weeks a year.)',\n       'How much additional monetary compensation do you get, if any (for example, bonuses or overtime in an average year)? Please only include monetary compensation here, not the value of benefits.',\n       'Please indicate the currency',\n       'If \"Other,\" please indicate the currency here: ',\n       'If your income needs additional context, please provide it here:',\n       'What country do you work in?',\n       'If you're in the U.S., what state do you work in?',\n       'What city do you work in?',\n       'How many years of professional work experience do you have overall?',\n       'How many years of professional work experience do you have in your field?',\n       'What is your highest level of education completed?',\n       'What is your gender?', 'What is your race? (Choose all that apply.)',\n       'Age'],\n      dtype='object')"
     },
     "execution_count": 5,
     "metadata": {},
     "output_type": "execute_result"
    }
   ],
   "source": [
    "df.columns"
   ],
   "metadata": {
    "collapsed": false,
    "ExecuteTime": {
     "end_time": "2023-06-22T12:28:59.419103600Z",
     "start_time": "2023-06-22T12:28:59.363445100Z"
    }
   }
  },
  {
   "cell_type": "markdown",
   "source": [
    "## Industry column"
   ],
   "metadata": {
    "collapsed": false
   }
  },
  {
   "cell_type": "code",
   "execution_count": 6,
   "outputs": [
    {
     "data": {
      "text/plain": "Computing or Tech                                4678\nEducation (Higher Education)                     2458\nNonprofits                                       2417\nHealth care                                      1888\nGovernment and Public Administration             1882\n                                                 ... \nFood processing                                     1\nArchitectural/Land Planning/Civil Engineering       1\nGaming (Gambling)                                   1\nRegulatory Affairs- nutraceuticals                  1\nResearch / Gov                                      1\nName: What industry do you work in?, Length: 1212, dtype: int64"
     },
     "execution_count": 6,
     "metadata": {},
     "output_type": "execute_result"
    }
   ],
   "source": [
    "df['What industry do you work in?'].value_counts()"
   ],
   "metadata": {
    "collapsed": false,
    "ExecuteTime": {
     "end_time": "2023-06-22T12:28:59.420105500Z",
     "start_time": "2023-06-22T12:28:59.380466600Z"
    }
   }
  },
  {
   "cell_type": "code",
   "execution_count": 7,
   "outputs": [],
   "source": [
    "# replace float values with Other and make all the values lowercase because there are some upper case and some lower case for the same industry\n",
    "df['What industry do you work in?'] = df['What industry do you work in?'].apply(lambda x: x.lower() if type(x) == str else 'Other')"
   ],
   "metadata": {
    "collapsed": false,
    "ExecuteTime": {
     "end_time": "2023-06-22T12:28:59.560189100Z",
     "start_time": "2023-06-22T12:28:59.394517500Z"
    }
   }
  },
  {
   "cell_type": "code",
   "execution_count": 8,
   "outputs": [
    {
     "data": {
      "text/plain": "computing or tech                       4678\neducation (higher education)            2458\nnonprofits                              2417\nhealth care                             1888\ngovernment and public administration    1882\n                                        ... \ndata analytics                             1\nluxury fashion                             1\ndata entry                                 1\nwholesale and retail trade                 1\nresearch / gov                             1\nName: What industry do you work in?, Length: 1096, dtype: int64"
     },
     "execution_count": 8,
     "metadata": {},
     "output_type": "execute_result"
    }
   ],
   "source": [
    "# we will see here that number of rows have been decreased from 1,212(before lower casing) to 1,096(after lower casing)\n",
    "df['What industry do you work in?'].value_counts()"
   ],
   "metadata": {
    "collapsed": false,
    "ExecuteTime": {
     "end_time": "2023-06-22T12:28:59.578942800Z",
     "start_time": "2023-06-22T12:28:59.428625600Z"
    }
   }
  },
  {
   "cell_type": "code",
   "execution_count": 9,
   "outputs": [],
   "source": [
    "# finally lets rename the column to Industry to make it easier to work with\n",
    "df['Industry'] = df['What industry do you work in?']\n",
    "df.drop('What industry do you work in?', axis = 1, inplace = True)"
   ],
   "metadata": {
    "collapsed": false,
    "ExecuteTime": {
     "end_time": "2023-06-22T12:28:59.578942800Z",
     "start_time": "2023-06-22T12:28:59.438688700Z"
    }
   }
  },
  {
   "cell_type": "markdown",
   "source": [
    "## Job title column"
   ],
   "metadata": {
    "collapsed": false
   }
  },
  {
   "cell_type": "code",
   "execution_count": 10,
   "outputs": [
    {
     "data": {
      "text/plain": "Software Engineer                               286\nProject Manager                                 230\nDirector                                        198\nSenior Software Engineer                        196\nProgram Manager                                 152\n                                               ... \nSenior Manager, Organizational Effectiveness      1\nSr Director Engineering                           1\nEngineering Manager II                            1\nCorporate communications manager                  1\nJunior Data Analyst                               1\nName: Job title, Length: 14297, dtype: int64"
     },
     "execution_count": 10,
     "metadata": {},
     "output_type": "execute_result"
    }
   ],
   "source": [
    "df['Job title'].value_counts()"
   ],
   "metadata": {
    "collapsed": false,
    "ExecuteTime": {
     "end_time": "2023-06-22T12:28:59.580449400Z",
     "start_time": "2023-06-22T12:28:59.454359900Z"
    }
   }
  },
  {
   "cell_type": "code",
   "execution_count": 11,
   "outputs": [
    {
     "data": {
      "text/plain": "software engineer                              356\nproject manager                                262\nsenior software engineer                       231\ndirector                                       202\nprogram manager                                183\n                                              ... \nmanager, programming & community engagement      1\nexecutive producer - events and content          1\nyouth specialist                                 1\nfellow physician                                 1\njunior data analyst                              1\nName: Job title, Length: 13045, dtype: int64"
     },
     "execution_count": 11,
     "metadata": {},
     "output_type": "execute_result"
    }
   ],
   "source": [
    "# making all the job titles lowercase for the same reason we did with Industry column\n",
    "df['Job title'] = df['Job title'].apply(lambda x: x.lower())\n",
    "# again number of rows have been decreased which means some of the job titles were upper case and some were lower case\n",
    "df['Job title'].value_counts()"
   ],
   "metadata": {
    "collapsed": false,
    "ExecuteTime": {
     "end_time": "2023-06-22T12:28:59.581456Z",
     "start_time": "2023-06-22T12:28:59.470358600Z"
    }
   }
  },
  {
   "cell_type": "markdown",
   "source": [
    "## Additional context column"
   ],
   "metadata": {
    "collapsed": false
   }
  },
  {
   "cell_type": "code",
   "execution_count": 12,
   "outputs": [
    {
     "data": {
      "text/plain": "20725"
     },
     "execution_count": 12,
     "metadata": {},
     "output_type": "execute_result"
    }
   ],
   "source": [
    "df['If your job title needs additional context, please clarify here:'].isna().sum()"
   ],
   "metadata": {
    "collapsed": false,
    "ExecuteTime": {
     "end_time": "2023-06-22T12:28:59.582462200Z",
     "start_time": "2023-06-22T12:28:59.506232500Z"
    }
   }
  },
  {
   "cell_type": "code",
   "execution_count": 13,
   "outputs": [],
   "source": [
    "#drop the if your job columns since over 75% of the rows are null\n",
    "df.drop('If your job title needs additional context, please clarify here:', axis=1, inplace=True)"
   ],
   "metadata": {
    "collapsed": false,
    "ExecuteTime": {
     "end_time": "2023-06-22T12:28:59.582462200Z",
     "start_time": "2023-06-22T12:28:59.522800300Z"
    }
   }
  },
  {
   "cell_type": "code",
   "execution_count": 14,
   "outputs": [
    {
     "data": {
      "text/plain": "Index(['Timestamp', 'Job title',\n       'What is your annual salary? (You'll indicate the currency in a later question. If you are part-time or hourly, please enter an annualized equivalent -- what you would earn if you worked the job 40 hours a week, 52 weeks a year.)',\n       'How much additional monetary compensation do you get, if any (for example, bonuses or overtime in an average year)? Please only include monetary compensation here, not the value of benefits.',\n       'Please indicate the currency',\n       'If \"Other,\" please indicate the currency here: ',\n       'If your income needs additional context, please provide it here:',\n       'What country do you work in?',\n       'If you're in the U.S., what state do you work in?',\n       'What city do you work in?',\n       'How many years of professional work experience do you have overall?',\n       'How many years of professional work experience do you have in your field?',\n       'What is your highest level of education completed?',\n       'What is your gender?', 'What is your race? (Choose all that apply.)',\n       'Age', 'Industry'],\n      dtype='object')"
     },
     "execution_count": 14,
     "metadata": {},
     "output_type": "execute_result"
    }
   ],
   "source": [
    "df.columns"
   ],
   "metadata": {
    "collapsed": false,
    "ExecuteTime": {
     "end_time": "2023-06-22T12:28:59.582462200Z",
     "start_time": "2023-06-22T12:28:59.533311700Z"
    }
   }
  },
  {
   "cell_type": "markdown",
   "source": [
    "## Annual salary column"
   ],
   "metadata": {
    "collapsed": false
   }
  },
  {
   "cell_type": "code",
   "execution_count": 15,
   "outputs": [],
   "source": [
    "# rename the column to Salary\n",
    "df['Salary'] = df.iloc[:,2]\n",
    "df.drop(df.columns[2], axis=1, inplace=True)"
   ],
   "metadata": {
    "collapsed": false,
    "ExecuteTime": {
     "end_time": "2023-06-22T12:28:59.601530700Z",
     "start_time": "2023-06-22T12:28:59.548675700Z"
    }
   }
  },
  {
   "cell_type": "code",
   "execution_count": 16,
   "outputs": [
    {
     "data": {
      "text/plain": "60,000     430\n80,000     406\n70,000     402\n65,000     400\n75,000     383\n          ... \n86,520       1\n155,375      1\n27,070       1\n73,320       1\n116421       1\nName: Salary, Length: 4287, dtype: int64"
     },
     "execution_count": 16,
     "metadata": {},
     "output_type": "execute_result"
    }
   ],
   "source": [
    "df['Salary'].value_counts()"
   ],
   "metadata": {
    "collapsed": false,
    "ExecuteTime": {
     "end_time": "2023-06-22T12:28:59.601530700Z",
     "start_time": "2023-06-22T12:28:59.567445600Z"
    }
   }
  },
  {
   "cell_type": "code",
   "execution_count": 17,
   "outputs": [],
   "source": [
    "#drop the comma from the salary column so we can convert it to float\n",
    "df['Salary'] = df['Salary'].apply(lambda x: x.replace(',', ''))\n",
    "#convert the salary column to a float, so we can add it to the bonus column\n",
    "df['Salary'] = df['Salary'].astype(float)"
   ],
   "metadata": {
    "collapsed": false,
    "ExecuteTime": {
     "end_time": "2023-06-22T12:28:59.730229500Z",
     "start_time": "2023-06-22T12:28:59.578942800Z"
    }
   }
  },
  {
   "cell_type": "markdown",
   "source": [
    "## Additional monetary compensation column"
   ],
   "metadata": {
    "collapsed": false
   }
  },
  {
   "cell_type": "code",
   "execution_count": 18,
   "outputs": [],
   "source": [
    "# rename the column to Bonus\n",
    "df['Bonus'] = df.iloc[:,2]\n",
    "df.drop(df.columns[2], axis=1, inplace=True)"
   ],
   "metadata": {
    "collapsed": false,
    "ExecuteTime": {
     "end_time": "2023-06-22T12:28:59.731184300Z",
     "start_time": "2023-06-22T12:28:59.594982200Z"
    }
   }
  },
  {
   "cell_type": "code",
   "execution_count": 19,
   "outputs": [
    {
     "data": {
      "text/plain": "7262"
     },
     "execution_count": 19,
     "metadata": {},
     "output_type": "execute_result"
    }
   ],
   "source": [
    "df['Bonus'].isna().sum()"
   ],
   "metadata": {
    "collapsed": false,
    "ExecuteTime": {
     "end_time": "2023-06-22T12:28:59.731184300Z",
     "start_time": "2023-06-22T12:28:59.612108900Z"
    }
   }
  },
  {
   "cell_type": "code",
   "execution_count": 20,
   "outputs": [
    {
     "data": {
      "text/plain": "0.0        7921\n5000.0     1108\n10000.0     958\n2000.0      773\n1000.0      676\n           ... \n12400.0       1\n5275.0        1\n3009.0        1\n36500.0       1\n9075.0        1\nName: Bonus, Length: 843, dtype: int64"
     },
     "execution_count": 20,
     "metadata": {},
     "output_type": "execute_result"
    }
   ],
   "source": [
    "df['Bonus'].value_counts()"
   ],
   "metadata": {
    "collapsed": false,
    "ExecuteTime": {
     "end_time": "2023-06-22T12:28:59.732184500Z",
     "start_time": "2023-06-22T12:28:59.627621100Z"
    }
   }
  },
  {
   "cell_type": "code",
   "execution_count": 21,
   "outputs": [],
   "source": [
    "#fill the null values with 0 so we can add it to the salary column later\n",
    "df['Bonus'].fillna(0, inplace=True)"
   ],
   "metadata": {
    "collapsed": false,
    "ExecuteTime": {
     "end_time": "2023-06-22T12:28:59.732184500Z",
     "start_time": "2023-06-22T12:28:59.642477700Z"
    }
   }
  },
  {
   "cell_type": "code",
   "execution_count": 22,
   "outputs": [
    {
     "data": {
      "text/plain": "0.0        15183\n5000.0      1108\n10000.0      958\n2000.0       773\n1000.0       676\n           ...  \n12400.0        1\n5275.0         1\n3009.0         1\n36500.0        1\n9075.0         1\nName: Bonus, Length: 843, dtype: int64"
     },
     "execution_count": 22,
     "metadata": {},
     "output_type": "execute_result"
    }
   ],
   "source": [
    "df['Bonus'].value_counts()"
   ],
   "metadata": {
    "collapsed": false,
    "ExecuteTime": {
     "end_time": "2023-06-22T12:28:59.732184500Z",
     "start_time": "2023-06-22T12:28:59.661082800Z"
    }
   }
  },
  {
   "cell_type": "markdown",
   "source": [
    "## create a new column called total_salary which is the sum of salary and bonus columns"
   ],
   "metadata": {
    "collapsed": false
   }
  },
  {
   "cell_type": "markdown",
   "source": [
    "## before that lets fix the currency column by converting all the currencies to USD\n",
    "### for this problem and to be dynamic, we will use the currency converter pacakge\n",
    "#### for more information visit https://pypi.org/project/CurrencyConverter/"
   ],
   "metadata": {
    "collapsed": false
   }
  },
  {
   "cell_type": "code",
   "execution_count": 23,
   "outputs": [],
   "source": [
    "# create a new column called total_salary which is the sum of salary and bonus columns\n",
    "df['total_salary'] = df['Salary'] + df['Bonus']"
   ],
   "metadata": {
    "collapsed": false,
    "ExecuteTime": {
     "end_time": "2023-06-22T12:28:59.732184500Z",
     "start_time": "2023-06-22T12:28:59.675600200Z"
    }
   }
  },
  {
   "cell_type": "code",
   "execution_count": 24,
   "outputs": [
    {
     "name": "stdout",
     "output_type": "stream",
     "text": [
      "Requirement already satisfied: CurrencyConverter in c:\\users\\medo2\\anaconda3\\lib\\site-packages (0.17.7)\n",
      "Note: you may need to restart the kernel to use updated packages.\n"
     ]
    }
   ],
   "source": [
    "pip install CurrencyConverter"
   ],
   "metadata": {
    "collapsed": false,
    "ExecuteTime": {
     "end_time": "2023-06-22T12:29:04.291097300Z",
     "start_time": "2023-06-22T12:28:59.689112900Z"
    }
   }
  },
  {
   "cell_type": "code",
   "execution_count": 25,
   "outputs": [],
   "source": [
    "from currency_converter import CurrencyConverter\n",
    "c = CurrencyConverter()"
   ],
   "metadata": {
    "collapsed": false,
    "ExecuteTime": {
     "end_time": "2023-06-22T12:29:04.507252600Z",
     "start_time": "2023-06-22T12:29:04.294106400Z"
    }
   }
  },
  {
   "cell_type": "code",
   "execution_count": 26,
   "outputs": [
    {
     "data": {
      "text/plain": "0        55000.000000\n1        72814.841637\n2        34000.000000\n3        65000.000000\n4        67000.000000\n             ...     \n27956    65000.000000\n27957    83000.000000\n27958    70826.723094\n27959    10000.000000\n27960    65000.000000\nName: total_salary, Length: 27961, dtype: float64"
     },
     "execution_count": 26,
     "metadata": {},
     "output_type": "execute_result"
    }
   ],
   "source": [
    "#change the total_salary of every non USD currency to USD\n",
    "df['total_salary'] = df.apply(lambda x: x['total_salary'] * c.convert(1, 'CAD', 'USD') if x['Please indicate the currency'] == 'CAD' else x['total_salary'], axis=1)\n",
    "df['total_salary'] = df.apply(lambda x: x['total_salary'] * c.convert(1, 'GBP', 'USD') if x['Please indicate the currency'] == 'GBP' else x['total_salary'], axis=1)\n",
    "df['total_salary'] = df.apply(lambda x: x['total_salary'] * c.convert(1, 'EUR', 'USD') if x['Please indicate the currency'] == 'EUR' else x['total_salary'], axis=1)\n",
    "df['total_salary'] = df.apply(lambda x: x['total_salary'] * c.convert(1, 'AUD', 'USD') if x['Please indicate the currency'] == 'AUD/NZD' else x['total_salary'], axis=1)\n",
    "df.total_salary"
   ],
   "metadata": {
    "collapsed": false,
    "ExecuteTime": {
     "end_time": "2023-06-22T12:29:05.518646800Z",
     "start_time": "2023-06-22T12:29:04.512723700Z"
    }
   }
  },
  {
   "cell_type": "code",
   "execution_count": 27,
   "outputs": [
    {
     "data": {
      "text/plain": "USD      27689\nOther      157\nCHF         37\nSEK         37\nJPY         23\nZAR         14\nHKD          4\nName: Please indicate the currency, dtype: int64"
     },
     "execution_count": 27,
     "metadata": {},
     "output_type": "execute_result"
    }
   ],
   "source": [
    "#convert every currency to USD after converting the salary\n",
    "df['Please indicate the currency'] = df['Please indicate the currency'].apply(lambda x: x.replace('CAD', 'USD').replace('GBP', 'USD').replace('EUR', 'USD').replace('AUD/NZD', 'USD'))\n",
    "df['Please indicate the currency'].value_counts()"
   ],
   "metadata": {
    "collapsed": false,
    "ExecuteTime": {
     "end_time": "2023-06-22T12:29:05.568925700Z",
     "start_time": "2023-06-22T12:29:05.522165500Z"
    }
   }
  },
  {
   "cell_type": "code",
   "execution_count": 28,
   "outputs": [],
   "source": [
    "# drop any non USD currency\n",
    "df = df[df['Please indicate the currency'] == 'USD']\n",
    "# drop the currency column since it is all USD now\n",
    "df.drop('Please indicate the currency', axis=1, inplace=True)"
   ],
   "metadata": {
    "collapsed": false,
    "ExecuteTime": {
     "end_time": "2023-06-22T12:29:05.583682200Z",
     "start_time": "2023-06-22T12:29:05.557378Z"
    }
   }
  },
  {
   "cell_type": "code",
   "execution_count": 29,
   "outputs": [],
   "source": [
    "#drop the if other currency column since we will use only USD\n",
    "df.drop('If \"Other,\" please indicate the currency here: ', axis=1, inplace=True)"
   ],
   "metadata": {
    "collapsed": false,
    "ExecuteTime": {
     "end_time": "2023-06-22T12:29:05.621532900Z",
     "start_time": "2023-06-22T12:29:05.582684Z"
    }
   }
  },
  {
   "cell_type": "code",
   "execution_count": 30,
   "outputs": [],
   "source": [
    "#drop the if your work needs additional context column since most of the rows are null and it doesn't add any value\n",
    "df.drop('If your income needs additional context, please provide it here:', axis=1, inplace=True)"
   ],
   "metadata": {
    "collapsed": false,
    "ExecuteTime": {
     "end_time": "2023-06-22T12:29:05.622532400Z",
     "start_time": "2023-06-22T12:29:05.597817800Z"
    }
   }
  },
  {
   "cell_type": "markdown",
   "source": [
    "## Country column\n",
    "### # it looks like the column has many problems like the lower and upper case, some countries have spaces before and after the name, and some countries have different names for the same country"
   ],
   "metadata": {
    "collapsed": false
   }
  },
  {
   "cell_type": "code",
   "execution_count": 31,
   "outputs": [],
   "source": [
    "# first lets rename the column to Country\n",
    "df['Country'] = df['What country do you work in?']\n",
    "df.drop('What country do you work in?', axis=1, inplace=True)"
   ],
   "metadata": {
    "collapsed": false,
    "ExecuteTime": {
     "end_time": "2023-06-22T12:29:05.627530600Z",
     "start_time": "2023-06-22T12:29:05.613497300Z"
    }
   }
  },
  {
   "cell_type": "code",
   "execution_count": 32,
   "outputs": [
    {
     "data": {
      "text/plain": "United States             8963\nUSA                       7912\nUS                        2604\nCanada                    1561\nUnited States              665\n                          ... \nUnited Kingdomk              1\n New Zealand                 1\nCuba                         1\nAustrali                     1\nBosnia and Herzegovina       1\nName: Country, Length: 336, dtype: int64"
     },
     "execution_count": 32,
     "metadata": {},
     "output_type": "execute_result"
    }
   ],
   "source": [
    "df['Country'].value_counts()"
   ],
   "metadata": {
    "collapsed": false,
    "ExecuteTime": {
     "end_time": "2023-06-22T12:29:05.643642200Z",
     "start_time": "2023-06-22T12:29:05.629532200Z"
    }
   }
  },
  {
   "cell_type": "code",
   "execution_count": 33,
   "outputs": [],
   "source": [
    "# first lets strip the column to remove any spaces before and after the country name\n",
    "df['Country'] = df['Country'].apply(lambda x: x.strip())"
   ],
   "metadata": {
    "collapsed": false,
    "ExecuteTime": {
     "end_time": "2023-06-22T12:29:05.686349100Z",
     "start_time": "2023-06-22T12:29:05.645648200Z"
    }
   }
  },
  {
   "cell_type": "markdown",
   "source": [
    "### now for the different names for the same country, we will use the following functions to fix the problem"
   ],
   "metadata": {
    "collapsed": false
   }
  },
  {
   "cell_type": "code",
   "execution_count": 34,
   "outputs": [],
   "source": [
    "# a function that convert all the rows that start with letters US, Us, uS, us, USA, usa to United States\n",
    "def united_states_fixer(x):\n",
    "    if x.lower() in ['usa', 'us', 'united states', 'united states of america', 'u.s.', 'u.s.a', 'u.s.a.', 'u.s', 'u. s.', 'unites states', 'the united states', 'united state']:\n",
    "        return 'United States'\n",
    "    else:\n",
    "        return x"
   ],
   "metadata": {
    "collapsed": false,
    "ExecuteTime": {
     "end_time": "2023-06-22T12:29:05.687382300Z",
     "start_time": "2023-06-22T12:29:05.660199400Z"
    }
   }
  },
  {
   "cell_type": "code",
   "execution_count": 35,
   "outputs": [],
   "source": [
    "def united_kingdom_fixer(x):\n",
    "    if x.lower() in ['uk', 'united kingdom', 'u.k.', 'u.k', 'u. k.' , 'england', 'great britain', 'england, uk']:\n",
    "        return 'United Kingdom'\n",
    "    else:\n",
    "        return x"
   ],
   "metadata": {
    "collapsed": false,
    "ExecuteTime": {
     "end_time": "2023-06-22T12:29:05.698755900Z",
     "start_time": "2023-06-22T12:29:05.677773500Z"
    }
   }
  },
  {
   "cell_type": "code",
   "execution_count": 36,
   "outputs": [],
   "source": [
    "def canada_fixer(x):\n",
    "    if x.lower() in ['canada', 'ca']:\n",
    "        return 'Canada'\n",
    "    else:\n",
    "        return x"
   ],
   "metadata": {
    "collapsed": false,
    "ExecuteTime": {
     "end_time": "2023-06-22T12:29:05.710297Z",
     "start_time": "2023-06-22T12:29:05.691760200Z"
    }
   }
  },
  {
   "cell_type": "code",
   "execution_count": 37,
   "outputs": [],
   "source": [
    "df['Country'] = df['Country'].apply(united_states_fixer)\n",
    "df['Country'] = df['Country'].apply(united_kingdom_fixer)\n",
    "df['Country'] = df['Country'].apply(canada_fixer)"
   ],
   "metadata": {
    "collapsed": false,
    "ExecuteTime": {
     "end_time": "2023-06-22T12:29:05.755749300Z",
     "start_time": "2023-06-22T12:29:05.707268100Z"
    }
   }
  },
  {
   "cell_type": "code",
   "execution_count": 38,
   "outputs": [
    {
     "data": {
      "text/plain": "United States                                            22994\nCanada                                                    1669\nUnited Kingdom                                            1511\nAustralia                                                  379\nGermany                                                    191\n                                                         ...  \nEritrea                                                      1\nFor the United States government, but posted overseas        1\nIS                                                           1\nUnited Kingdomk                                              1\nBosnia and Herzegovina                                       1\nName: Country, Length: 239, dtype: int64"
     },
     "execution_count": 38,
     "metadata": {},
     "output_type": "execute_result"
    }
   ],
   "source": [
    "df['Country'].value_counts()"
   ],
   "metadata": {
    "collapsed": false,
    "ExecuteTime": {
     "end_time": "2023-06-22T12:29:05.756735900Z",
     "start_time": "2023-06-22T12:29:05.741490500Z"
    }
   }
  },
  {
   "cell_type": "code",
   "execution_count": 39,
   "outputs": [],
   "source": [
    "# now after solving the problem lets drop any rows that outside the top 7 countries\n",
    "countries = ['United States', 'United Kingdom', 'Canada', 'Australia', 'Germany', 'Ireland', 'New Zealand']"
   ],
   "metadata": {
    "collapsed": false,
    "ExecuteTime": {
     "end_time": "2023-06-22T12:29:05.767252100Z",
     "start_time": "2023-06-22T12:29:05.760243400Z"
    }
   }
  },
  {
   "cell_type": "code",
   "execution_count": 40,
   "outputs": [],
   "source": [
    "df = df[df['Country'].isin(countries)]"
   ],
   "metadata": {
    "collapsed": false,
    "ExecuteTime": {
     "end_time": "2023-06-22T12:29:05.812867500Z",
     "start_time": "2023-06-22T12:29:05.768249300Z"
    }
   }
  },
  {
   "cell_type": "code",
   "execution_count": 41,
   "outputs": [
    {
     "data": {
      "text/plain": "United States     22994\nCanada             1669\nUnited Kingdom     1511\nAustralia           379\nGermany             191\nIreland             120\nNew Zealand         114\nName: Country, dtype: int64"
     },
     "execution_count": 41,
     "metadata": {},
     "output_type": "execute_result"
    }
   ],
   "source": [
    "df['Country'].value_counts()"
   ],
   "metadata": {
    "collapsed": false,
    "ExecuteTime": {
     "end_time": "2023-06-22T12:29:05.823891800Z",
     "start_time": "2023-06-22T12:29:05.789308800Z"
    }
   }
  },
  {
   "cell_type": "code",
   "execution_count": 42,
   "outputs": [
    {
     "data": {
      "text/plain": "             Timestamp                                 Job title  \\\n0      4/27/2021 11:02        research and instruction librarian   \n1      4/27/2021 11:02  change & internal communications manager   \n2      4/27/2021 11:02                      marketing specialist   \n3      4/27/2021 11:02                           program manager   \n4      4/27/2021 11:02                        accounting manager   \n...                ...                                       ...   \n27955   4/17/2023 9:40                                  waitress   \n27956   4/18/2023 9:26                             porting agent   \n27957  4/21/2023 10:22                   post-doctoral associate   \n27958  4/24/2023 19:45                               crm manager   \n27960   5/9/2023 17:57                       junior data analyst   \n\n      If you're in the U.S., what state do you work in?  \\\n0                                         Massachusetts   \n1                                                   NaN   \n2                                             Tennessee   \n3                                             Wisconsin   \n4                                        South Carolina   \n...                                                 ...   \n27955                                          New York   \n27956                                           Georgia   \n27957                              District of Columbia   \n27958                                               NaN   \n27960                                          Virginia   \n\n      What city do you work in?  \\\n0                        Boston   \n1                     Cambridge   \n2                   Chattanooga   \n3                     Milwaukee   \n4                    Greenville   \n...                         ...   \n27955                 Rochester   \n27956                   Atlanta   \n27957                        Dc   \n27958                    London   \n27960                  Richmond   \n\n      How many years of professional work experience do you have overall?  \\\n0                                              5-7 years                    \n1                                           8 - 10 years                    \n2                                            2 - 4 years                    \n3                                           8 - 10 years                    \n4                                           8 - 10 years                    \n...                                                  ...                    \n27955                                          5-7 years                    \n27956                                      21 - 30 years                    \n27957                                        2 - 4 years                    \n27958                                          5-7 years                    \n27960                                      21 - 30 years                    \n\n      How many years of professional work experience do you have in your field?  \\\n0                                              5-7 years                          \n1                                              5-7 years                          \n2                                            2 - 4 years                          \n3                                              5-7 years                          \n4                                              5-7 years                          \n...                                                  ...                          \n27955                                        2 - 4 years                          \n27956                                        2 - 4 years                          \n27957                                        2 - 4 years                          \n27958                                        2 - 4 years                          \n27960                                     1 year or less                          \n\n      What is your highest level of education completed? What is your gender?  \\\n0                                        Master's degree                Woman   \n1                                         College degree           Non-binary   \n2                                         College degree                Woman   \n3                                         College degree                Woman   \n4                                         College degree                Woman   \n...                                                  ...                  ...   \n27955                                       Some college                Woman   \n27956                                       Some college                  Man   \n27957                                                PhD                  Man   \n27958                                       Some college                Woman   \n27960                                     College degree                  Man   \n\n      What is your race? (Choose all that apply.)    Age  \\\n0                                           White  25-34   \n1                                           White  25-34   \n2                                           White  25-34   \n3                                           White  25-34   \n4                                           White  25-34   \n...                                           ...    ...   \n27955                                       White  18-24   \n27956         Hispanic, Latino, or Spanish origin  35-44   \n27957                                       White  25-34   \n27958                                       White  25-34   \n27960                                       White  45-54   \n\n                            Industry   Salary    Bonus  total_salary  \\\n0       education (higher education)  55000.0      0.0  55000.000000   \n1                  computing or tech  54600.0   4000.0  72814.841637   \n2      accounting, banking & finance  34000.0      0.0  34000.000000   \n3                         nonprofits  62000.0   3000.0  65000.000000   \n4      accounting, banking & finance  60000.0   7000.0  67000.000000   \n...                              ...      ...      ...           ...   \n27955           hospitality & events  35000.0  10000.0  45000.000000   \n27956              computing or tech  60000.0   5000.0  65000.000000   \n27957                 research / gov  83000.0      0.0  83000.000000   \n27958  accounting, banking & finance  57000.0      0.0  70826.723094   \n27960              computing or tech  65000.0      0.0  65000.000000   \n\n              Country  \n0       United States  \n1      United Kingdom  \n2       United States  \n3       United States  \n4       United States  \n...               ...  \n27955   United States  \n27956   United States  \n27957   United States  \n27958  United Kingdom  \n27960   United States  \n\n[26978 rows x 15 columns]",
      "text/html": "<div>\n<style scoped>\n    .dataframe tbody tr th:only-of-type {\n        vertical-align: middle;\n    }\n\n    .dataframe tbody tr th {\n        vertical-align: top;\n    }\n\n    .dataframe thead th {\n        text-align: right;\n    }\n</style>\n<table border=\"1\" class=\"dataframe\">\n  <thead>\n    <tr style=\"text-align: right;\">\n      <th></th>\n      <th>Timestamp</th>\n      <th>Job title</th>\n      <th>If you're in the U.S., what state do you work in?</th>\n      <th>What city do you work in?</th>\n      <th>How many years of professional work experience do you have overall?</th>\n      <th>How many years of professional work experience do you have in your field?</th>\n      <th>What is your highest level of education completed?</th>\n      <th>What is your gender?</th>\n      <th>What is your race? (Choose all that apply.)</th>\n      <th>Age</th>\n      <th>Industry</th>\n      <th>Salary</th>\n      <th>Bonus</th>\n      <th>total_salary</th>\n      <th>Country</th>\n    </tr>\n  </thead>\n  <tbody>\n    <tr>\n      <th>0</th>\n      <td>4/27/2021 11:02</td>\n      <td>research and instruction librarian</td>\n      <td>Massachusetts</td>\n      <td>Boston</td>\n      <td>5-7 years</td>\n      <td>5-7 years</td>\n      <td>Master's degree</td>\n      <td>Woman</td>\n      <td>White</td>\n      <td>25-34</td>\n      <td>education (higher education)</td>\n      <td>55000.0</td>\n      <td>0.0</td>\n      <td>55000.000000</td>\n      <td>United States</td>\n    </tr>\n    <tr>\n      <th>1</th>\n      <td>4/27/2021 11:02</td>\n      <td>change &amp; internal communications manager</td>\n      <td>NaN</td>\n      <td>Cambridge</td>\n      <td>8 - 10 years</td>\n      <td>5-7 years</td>\n      <td>College degree</td>\n      <td>Non-binary</td>\n      <td>White</td>\n      <td>25-34</td>\n      <td>computing or tech</td>\n      <td>54600.0</td>\n      <td>4000.0</td>\n      <td>72814.841637</td>\n      <td>United Kingdom</td>\n    </tr>\n    <tr>\n      <th>2</th>\n      <td>4/27/2021 11:02</td>\n      <td>marketing specialist</td>\n      <td>Tennessee</td>\n      <td>Chattanooga</td>\n      <td>2 - 4 years</td>\n      <td>2 - 4 years</td>\n      <td>College degree</td>\n      <td>Woman</td>\n      <td>White</td>\n      <td>25-34</td>\n      <td>accounting, banking &amp; finance</td>\n      <td>34000.0</td>\n      <td>0.0</td>\n      <td>34000.000000</td>\n      <td>United States</td>\n    </tr>\n    <tr>\n      <th>3</th>\n      <td>4/27/2021 11:02</td>\n      <td>program manager</td>\n      <td>Wisconsin</td>\n      <td>Milwaukee</td>\n      <td>8 - 10 years</td>\n      <td>5-7 years</td>\n      <td>College degree</td>\n      <td>Woman</td>\n      <td>White</td>\n      <td>25-34</td>\n      <td>nonprofits</td>\n      <td>62000.0</td>\n      <td>3000.0</td>\n      <td>65000.000000</td>\n      <td>United States</td>\n    </tr>\n    <tr>\n      <th>4</th>\n      <td>4/27/2021 11:02</td>\n      <td>accounting manager</td>\n      <td>South Carolina</td>\n      <td>Greenville</td>\n      <td>8 - 10 years</td>\n      <td>5-7 years</td>\n      <td>College degree</td>\n      <td>Woman</td>\n      <td>White</td>\n      <td>25-34</td>\n      <td>accounting, banking &amp; finance</td>\n      <td>60000.0</td>\n      <td>7000.0</td>\n      <td>67000.000000</td>\n      <td>United States</td>\n    </tr>\n    <tr>\n      <th>...</th>\n      <td>...</td>\n      <td>...</td>\n      <td>...</td>\n      <td>...</td>\n      <td>...</td>\n      <td>...</td>\n      <td>...</td>\n      <td>...</td>\n      <td>...</td>\n      <td>...</td>\n      <td>...</td>\n      <td>...</td>\n      <td>...</td>\n      <td>...</td>\n      <td>...</td>\n    </tr>\n    <tr>\n      <th>27955</th>\n      <td>4/17/2023 9:40</td>\n      <td>waitress</td>\n      <td>New York</td>\n      <td>Rochester</td>\n      <td>5-7 years</td>\n      <td>2 - 4 years</td>\n      <td>Some college</td>\n      <td>Woman</td>\n      <td>White</td>\n      <td>18-24</td>\n      <td>hospitality &amp; events</td>\n      <td>35000.0</td>\n      <td>10000.0</td>\n      <td>45000.000000</td>\n      <td>United States</td>\n    </tr>\n    <tr>\n      <th>27956</th>\n      <td>4/18/2023 9:26</td>\n      <td>porting agent</td>\n      <td>Georgia</td>\n      <td>Atlanta</td>\n      <td>21 - 30 years</td>\n      <td>2 - 4 years</td>\n      <td>Some college</td>\n      <td>Man</td>\n      <td>Hispanic, Latino, or Spanish origin</td>\n      <td>35-44</td>\n      <td>computing or tech</td>\n      <td>60000.0</td>\n      <td>5000.0</td>\n      <td>65000.000000</td>\n      <td>United States</td>\n    </tr>\n    <tr>\n      <th>27957</th>\n      <td>4/21/2023 10:22</td>\n      <td>post-doctoral associate</td>\n      <td>District of Columbia</td>\n      <td>Dc</td>\n      <td>2 - 4 years</td>\n      <td>2 - 4 years</td>\n      <td>PhD</td>\n      <td>Man</td>\n      <td>White</td>\n      <td>25-34</td>\n      <td>research / gov</td>\n      <td>83000.0</td>\n      <td>0.0</td>\n      <td>83000.000000</td>\n      <td>United States</td>\n    </tr>\n    <tr>\n      <th>27958</th>\n      <td>4/24/2023 19:45</td>\n      <td>crm manager</td>\n      <td>NaN</td>\n      <td>London</td>\n      <td>5-7 years</td>\n      <td>2 - 4 years</td>\n      <td>Some college</td>\n      <td>Woman</td>\n      <td>White</td>\n      <td>25-34</td>\n      <td>accounting, banking &amp; finance</td>\n      <td>57000.0</td>\n      <td>0.0</td>\n      <td>70826.723094</td>\n      <td>United Kingdom</td>\n    </tr>\n    <tr>\n      <th>27960</th>\n      <td>5/9/2023 17:57</td>\n      <td>junior data analyst</td>\n      <td>Virginia</td>\n      <td>Richmond</td>\n      <td>21 - 30 years</td>\n      <td>1 year or less</td>\n      <td>College degree</td>\n      <td>Man</td>\n      <td>White</td>\n      <td>45-54</td>\n      <td>computing or tech</td>\n      <td>65000.0</td>\n      <td>0.0</td>\n      <td>65000.000000</td>\n      <td>United States</td>\n    </tr>\n  </tbody>\n</table>\n<p>26978 rows × 15 columns</p>\n</div>"
     },
     "execution_count": 42,
     "metadata": {},
     "output_type": "execute_result"
    }
   ],
   "source": [
    "df"
   ],
   "metadata": {
    "collapsed": false,
    "ExecuteTime": {
     "end_time": "2023-06-22T12:29:05.837419600Z",
     "start_time": "2023-06-22T12:29:05.812867500Z"
    }
   }
  },
  {
   "cell_type": "code",
   "execution_count": 43,
   "outputs": [],
   "source": [
    "# drop Timestamp column\n",
    "df.drop('Timestamp', axis=1, inplace=True)"
   ],
   "metadata": {
    "collapsed": false,
    "ExecuteTime": {
     "end_time": "2023-06-22T12:29:05.892503800Z",
     "start_time": "2023-06-22T12:29:05.835422200Z"
    }
   }
  },
  {
   "cell_type": "code",
   "execution_count": 44,
   "outputs": [
    {
     "data": {
      "text/plain": "Index(['Job title', 'If you're in the U.S., what state do you work in?',\n       'What city do you work in?',\n       'How many years of professional work experience do you have overall?',\n       'How many years of professional work experience do you have in your field?',\n       'What is your highest level of education completed?',\n       'What is your gender?', 'What is your race? (Choose all that apply.)',\n       'Age', 'Industry', 'Salary', 'Bonus', 'total_salary', 'Country'],\n      dtype='object')"
     },
     "execution_count": 44,
     "metadata": {},
     "output_type": "execute_result"
    }
   ],
   "source": [
    "df.columns"
   ],
   "metadata": {
    "collapsed": false,
    "ExecuteTime": {
     "end_time": "2023-06-22T12:29:05.893504800Z",
     "start_time": "2023-06-22T12:29:05.848951700Z"
    }
   }
  },
  {
   "cell_type": "markdown",
   "source": [
    "## State column"
   ],
   "metadata": {
    "collapsed": false
   }
  },
  {
   "cell_type": "code",
   "execution_count": 45,
   "outputs": [],
   "source": [
    "# rename the column to State\n",
    "df['State'] = df[df.columns[1]]\n",
    "df.drop(df.columns[1], axis=1, inplace=True)"
   ],
   "metadata": {
    "collapsed": false,
    "ExecuteTime": {
     "end_time": "2023-06-22T12:29:05.924077800Z",
     "start_time": "2023-06-22T12:29:05.865945400Z"
    }
   }
  },
  {
   "cell_type": "code",
   "execution_count": 46,
   "outputs": [
    {
     "data": {
      "text/plain": "California                                                2583\nNew York                                                  2159\nMassachusetts                                             1513\nTexas                                                     1249\nIllinois                                                  1200\n                                                          ... \nDistrict of Columbia, Maryland, Pennsylvania, Virginia       1\nArkansas, Iowa, Massachusetts, Ohio, Wyoming                 1\nNew York, Texas                                              1\nCalifornia, Montana                                          1\nAlabama, Oregon                                              1\nName: State, Length: 131, dtype: int64"
     },
     "execution_count": 46,
     "metadata": {},
     "output_type": "execute_result"
    }
   ],
   "source": [
    "df['State'].value_counts()"
   ],
   "metadata": {
    "collapsed": false,
    "ExecuteTime": {
     "end_time": "2023-06-22T12:29:05.943643800Z",
     "start_time": "2023-06-22T12:29:05.879469500Z"
    }
   }
  },
  {
   "cell_type": "code",
   "execution_count": 47,
   "outputs": [
    {
     "data": {
      "text/plain": "4152"
     },
     "execution_count": 47,
     "metadata": {},
     "output_type": "execute_result"
    }
   ],
   "source": [
    "df['State'].isna().sum()"
   ],
   "metadata": {
    "collapsed": false,
    "ExecuteTime": {
     "end_time": "2023-06-22T12:29:05.994991Z",
     "start_time": "2023-06-22T12:29:05.899506500Z"
    }
   }
  },
  {
   "cell_type": "code",
   "execution_count": 48,
   "outputs": [],
   "source": [
    "# first we will fill the null values for the people who work outside the US with Other\n",
    "df['State'].fillna('Other', inplace=True)"
   ],
   "metadata": {
    "collapsed": false,
    "ExecuteTime": {
     "end_time": "2023-06-22T12:29:06.056709100Z",
     "start_time": "2023-06-22T12:29:05.911549300Z"
    }
   }
  },
  {
   "cell_type": "code",
   "execution_count": 49,
   "outputs": [],
   "source": [
    "# get the most 52 common values from the state column (51 states + NA)\n",
    "states = dict(df['State'].value_counts().head(52))"
   ],
   "metadata": {
    "collapsed": false,
    "ExecuteTime": {
     "end_time": "2023-06-22T12:29:06.057709500Z",
     "start_time": "2023-06-22T12:29:05.928046900Z"
    }
   }
  },
  {
   "cell_type": "code",
   "execution_count": 50,
   "outputs": [
    {
     "data": {
      "text/plain": "Other                   4152\nCalifornia              2583\nNew York                2159\nMassachusetts           1513\nTexas                   1249\nIllinois                1200\nWashington              1176\nDistrict of Columbia     969\nPennsylvania             938\nVirginia                 782\nMinnesota                710\nOhio                     651\nColorado                 629\nOregon                   620\nNorth Carolina           598\nMaryland                 561\nMichigan                 538\nGeorgia                  530\nFlorida                  517\nWisconsin                467\nNew Jersey               396\nMissouri                 338\nIndiana                  326\nArizona                  301\nTennessee                282\nConnecticut              236\nUtah                     207\nKentucky                 190\nIowa                     179\nKansas                   152\nSouth Carolina           144\nLouisiana                128\nMaine                    125\nNew Hampshire            117\nAlabama                  114\nOklahoma                 113\nNebraska                 109\nNew Mexico                98\nIdaho                     96\nNevada                    91\nRhode Island              76\nArkansas                  70\nVermont                   66\nMontana                   63\nAlaska                    63\nMississippi               50\nDelaware                  46\nWest Virginia             42\nNorth Dakota              35\nHawaii                    30\nSouth Dakota              24\nWyoming                   23\nName: State, dtype: int64"
     },
     "execution_count": 50,
     "metadata": {},
     "output_type": "execute_result"
    }
   ],
   "source": [
    "# remove any rows outside the most 52 common values\n",
    "df = df[df['State'].isin(states.keys())]\n",
    "df['State'].value_counts()"
   ],
   "metadata": {
    "collapsed": false,
    "ExecuteTime": {
     "end_time": "2023-06-22T12:29:06.058708800Z",
     "start_time": "2023-06-22T12:29:05.959159600Z"
    }
   }
  },
  {
   "cell_type": "markdown",
   "source": [
    "## City column"
   ],
   "metadata": {
    "collapsed": false
   }
  },
  {
   "cell_type": "code",
   "execution_count": 51,
   "outputs": [],
   "source": [
    "# rename the column to City"
   ],
   "metadata": {
    "collapsed": false,
    "ExecuteTime": {
     "end_time": "2023-06-22T12:29:06.058708800Z",
     "start_time": "2023-06-22T12:29:05.975305800Z"
    }
   }
  },
  {
   "cell_type": "code",
   "execution_count": 52,
   "outputs": [],
   "source": [
    "df['City'] = df['What city do you work in?']\n",
    "df.drop('What city do you work in?', axis=1, inplace=True)"
   ],
   "metadata": {
    "collapsed": false,
    "ExecuteTime": {
     "end_time": "2023-06-22T12:29:06.058708800Z",
     "start_time": "2023-06-22T12:29:05.995991800Z"
    }
   }
  },
  {
   "cell_type": "code",
   "execution_count": 53,
   "outputs": [
    {
     "data": {
      "text/plain": "Boston           769\nChicago          744\nNew York         706\nSeattle          688\nLondon           569\n                ... \nG                  1\nAltadena           1\nHamilton           1\nLomdon             1\nMaitland, NSW      1\nName: City, Length: 4408, dtype: int64"
     },
     "execution_count": 53,
     "metadata": {},
     "output_type": "execute_result"
    }
   ],
   "source": [
    "df['City'].value_counts()"
   ],
   "metadata": {
    "collapsed": false,
    "ExecuteTime": {
     "end_time": "2023-06-22T12:29:06.058708800Z",
     "start_time": "2023-06-22T12:29:06.006504100Z"
    }
   }
  },
  {
   "cell_type": "markdown",
   "source": [
    "## it seems that New York city has the same problem we got with the country column, so we will fix it the same way"
   ],
   "metadata": {
    "collapsed": false
   }
  },
  {
   "cell_type": "code",
   "execution_count": 54,
   "outputs": [],
   "source": [
    "# let's convert the column first to String\n",
    "df['City'] = df['City'].astype(str)\n",
    "#first we will strip the rows in case it has some space\n",
    "df['City'] = df['City'].apply(lambda x: x.strip())"
   ],
   "metadata": {
    "collapsed": false,
    "ExecuteTime": {
     "end_time": "2023-06-22T12:29:06.058708800Z",
     "start_time": "2023-06-22T12:29:06.023076600Z"
    }
   }
  },
  {
   "cell_type": "code",
   "execution_count": 55,
   "outputs": [],
   "source": [
    "def new_york_fixer(x):\n",
    "    if x.lower() in ['new york', 'new york city', 'nyc', 'ny', 'new york, ny', 'new york, ny, usa']:\n",
    "        return 'New York City'\n",
    "    else:\n",
    "        return x"
   ],
   "metadata": {
    "collapsed": false,
    "ExecuteTime": {
     "end_time": "2023-06-22T12:29:06.078783200Z",
     "start_time": "2023-06-22T12:29:06.039167500Z"
    }
   }
  },
  {
   "cell_type": "code",
   "execution_count": 56,
   "outputs": [],
   "source": [
    "#apply teh new_york_fixer function to the city column\n",
    "df['City'] = df['City'].apply(new_york_fixer)"
   ],
   "metadata": {
    "collapsed": false,
    "ExecuteTime": {
     "end_time": "2023-06-22T12:29:06.080287800Z",
     "start_time": "2023-06-22T12:29:06.063221300Z"
    }
   }
  },
  {
   "cell_type": "code",
   "execution_count": 57,
   "outputs": [
    {
     "data": {
      "text/plain": "New York City                    1585\nBoston                            820\nChicago                           817\nSeattle                           731\nLondon                            613\n                                 ... \naston                               1\nLynnfield (Boston metro area)       1\nSouthern Maine                      1\nBarrie Ontario                      1\nMaitland, NSW                       1\nName: City, Length: 3844, dtype: int64"
     },
     "execution_count": 57,
     "metadata": {},
     "output_type": "execute_result"
    }
   ],
   "source": [
    "df['City'].value_counts()"
   ],
   "metadata": {
    "collapsed": false,
    "ExecuteTime": {
     "end_time": "2023-06-22T12:29:06.181007Z",
     "start_time": "2023-06-22T12:29:06.070779100Z"
    }
   }
  },
  {
   "cell_type": "code",
   "execution_count": 58,
   "outputs": [
    {
     "data": {
      "text/plain": "                                      Job title  \\\n0            research and instruction librarian   \n1      change & internal communications manager   \n2                          marketing specialist   \n3                               program manager   \n4                            accounting manager   \n...                                         ...   \n27955                                  waitress   \n27956                             porting agent   \n27957                   post-doctoral associate   \n27958                               crm manager   \n27960                       junior data analyst   \n\n      How many years of professional work experience do you have overall?  \\\n0                                              5-7 years                    \n1                                           8 - 10 years                    \n2                                            2 - 4 years                    \n3                                           8 - 10 years                    \n4                                           8 - 10 years                    \n...                                                  ...                    \n27955                                          5-7 years                    \n27956                                      21 - 30 years                    \n27957                                        2 - 4 years                    \n27958                                          5-7 years                    \n27960                                      21 - 30 years                    \n\n      How many years of professional work experience do you have in your field?  \\\n0                                              5-7 years                          \n1                                              5-7 years                          \n2                                            2 - 4 years                          \n3                                              5-7 years                          \n4                                              5-7 years                          \n...                                                  ...                          \n27955                                        2 - 4 years                          \n27956                                        2 - 4 years                          \n27957                                        2 - 4 years                          \n27958                                        2 - 4 years                          \n27960                                     1 year or less                          \n\n      What is your highest level of education completed? What is your gender?  \\\n0                                        Master's degree                Woman   \n1                                         College degree           Non-binary   \n2                                         College degree                Woman   \n3                                         College degree                Woman   \n4                                         College degree                Woman   \n...                                                  ...                  ...   \n27955                                       Some college                Woman   \n27956                                       Some college                  Man   \n27957                                                PhD                  Man   \n27958                                       Some college                Woman   \n27960                                     College degree                  Man   \n\n      What is your race? (Choose all that apply.)    Age  \\\n0                                           White  25-34   \n1                                           White  25-34   \n2                                           White  25-34   \n3                                           White  25-34   \n4                                           White  25-34   \n...                                           ...    ...   \n27955                                       White  18-24   \n27956         Hispanic, Latino, or Spanish origin  35-44   \n27957                                       White  25-34   \n27958                                       White  25-34   \n27960                                       White  45-54   \n\n                            Industry   Salary    Bonus  total_salary  \\\n0       education (higher education)  55000.0      0.0  55000.000000   \n1                  computing or tech  54600.0   4000.0  72814.841637   \n2      accounting, banking & finance  34000.0      0.0  34000.000000   \n3                         nonprofits  62000.0   3000.0  65000.000000   \n4      accounting, banking & finance  60000.0   7000.0  67000.000000   \n...                              ...      ...      ...           ...   \n27955           hospitality & events  35000.0  10000.0  45000.000000   \n27956              computing or tech  60000.0   5000.0  65000.000000   \n27957                 research / gov  83000.0      0.0  83000.000000   \n27958  accounting, banking & finance  57000.0      0.0  70826.723094   \n27960              computing or tech  65000.0      0.0  65000.000000   \n\n              Country                 State         City  \n0       United States         Massachusetts       Boston  \n1      United Kingdom                 Other    Cambridge  \n2       United States             Tennessee  Chattanooga  \n3       United States             Wisconsin    Milwaukee  \n4       United States        South Carolina   Greenville  \n...               ...                   ...          ...  \n27955   United States              New York    Rochester  \n27956   United States               Georgia      Atlanta  \n27957   United States  District of Columbia           Dc  \n27958  United Kingdom                 Other       London  \n27960   United States              Virginia     Richmond  \n\n[26872 rows x 14 columns]",
      "text/html": "<div>\n<style scoped>\n    .dataframe tbody tr th:only-of-type {\n        vertical-align: middle;\n    }\n\n    .dataframe tbody tr th {\n        vertical-align: top;\n    }\n\n    .dataframe thead th {\n        text-align: right;\n    }\n</style>\n<table border=\"1\" class=\"dataframe\">\n  <thead>\n    <tr style=\"text-align: right;\">\n      <th></th>\n      <th>Job title</th>\n      <th>How many years of professional work experience do you have overall?</th>\n      <th>How many years of professional work experience do you have in your field?</th>\n      <th>What is your highest level of education completed?</th>\n      <th>What is your gender?</th>\n      <th>What is your race? (Choose all that apply.)</th>\n      <th>Age</th>\n      <th>Industry</th>\n      <th>Salary</th>\n      <th>Bonus</th>\n      <th>total_salary</th>\n      <th>Country</th>\n      <th>State</th>\n      <th>City</th>\n    </tr>\n  </thead>\n  <tbody>\n    <tr>\n      <th>0</th>\n      <td>research and instruction librarian</td>\n      <td>5-7 years</td>\n      <td>5-7 years</td>\n      <td>Master's degree</td>\n      <td>Woman</td>\n      <td>White</td>\n      <td>25-34</td>\n      <td>education (higher education)</td>\n      <td>55000.0</td>\n      <td>0.0</td>\n      <td>55000.000000</td>\n      <td>United States</td>\n      <td>Massachusetts</td>\n      <td>Boston</td>\n    </tr>\n    <tr>\n      <th>1</th>\n      <td>change &amp; internal communications manager</td>\n      <td>8 - 10 years</td>\n      <td>5-7 years</td>\n      <td>College degree</td>\n      <td>Non-binary</td>\n      <td>White</td>\n      <td>25-34</td>\n      <td>computing or tech</td>\n      <td>54600.0</td>\n      <td>4000.0</td>\n      <td>72814.841637</td>\n      <td>United Kingdom</td>\n      <td>Other</td>\n      <td>Cambridge</td>\n    </tr>\n    <tr>\n      <th>2</th>\n      <td>marketing specialist</td>\n      <td>2 - 4 years</td>\n      <td>2 - 4 years</td>\n      <td>College degree</td>\n      <td>Woman</td>\n      <td>White</td>\n      <td>25-34</td>\n      <td>accounting, banking &amp; finance</td>\n      <td>34000.0</td>\n      <td>0.0</td>\n      <td>34000.000000</td>\n      <td>United States</td>\n      <td>Tennessee</td>\n      <td>Chattanooga</td>\n    </tr>\n    <tr>\n      <th>3</th>\n      <td>program manager</td>\n      <td>8 - 10 years</td>\n      <td>5-7 years</td>\n      <td>College degree</td>\n      <td>Woman</td>\n      <td>White</td>\n      <td>25-34</td>\n      <td>nonprofits</td>\n      <td>62000.0</td>\n      <td>3000.0</td>\n      <td>65000.000000</td>\n      <td>United States</td>\n      <td>Wisconsin</td>\n      <td>Milwaukee</td>\n    </tr>\n    <tr>\n      <th>4</th>\n      <td>accounting manager</td>\n      <td>8 - 10 years</td>\n      <td>5-7 years</td>\n      <td>College degree</td>\n      <td>Woman</td>\n      <td>White</td>\n      <td>25-34</td>\n      <td>accounting, banking &amp; finance</td>\n      <td>60000.0</td>\n      <td>7000.0</td>\n      <td>67000.000000</td>\n      <td>United States</td>\n      <td>South Carolina</td>\n      <td>Greenville</td>\n    </tr>\n    <tr>\n      <th>...</th>\n      <td>...</td>\n      <td>...</td>\n      <td>...</td>\n      <td>...</td>\n      <td>...</td>\n      <td>...</td>\n      <td>...</td>\n      <td>...</td>\n      <td>...</td>\n      <td>...</td>\n      <td>...</td>\n      <td>...</td>\n      <td>...</td>\n      <td>...</td>\n    </tr>\n    <tr>\n      <th>27955</th>\n      <td>waitress</td>\n      <td>5-7 years</td>\n      <td>2 - 4 years</td>\n      <td>Some college</td>\n      <td>Woman</td>\n      <td>White</td>\n      <td>18-24</td>\n      <td>hospitality &amp; events</td>\n      <td>35000.0</td>\n      <td>10000.0</td>\n      <td>45000.000000</td>\n      <td>United States</td>\n      <td>New York</td>\n      <td>Rochester</td>\n    </tr>\n    <tr>\n      <th>27956</th>\n      <td>porting agent</td>\n      <td>21 - 30 years</td>\n      <td>2 - 4 years</td>\n      <td>Some college</td>\n      <td>Man</td>\n      <td>Hispanic, Latino, or Spanish origin</td>\n      <td>35-44</td>\n      <td>computing or tech</td>\n      <td>60000.0</td>\n      <td>5000.0</td>\n      <td>65000.000000</td>\n      <td>United States</td>\n      <td>Georgia</td>\n      <td>Atlanta</td>\n    </tr>\n    <tr>\n      <th>27957</th>\n      <td>post-doctoral associate</td>\n      <td>2 - 4 years</td>\n      <td>2 - 4 years</td>\n      <td>PhD</td>\n      <td>Man</td>\n      <td>White</td>\n      <td>25-34</td>\n      <td>research / gov</td>\n      <td>83000.0</td>\n      <td>0.0</td>\n      <td>83000.000000</td>\n      <td>United States</td>\n      <td>District of Columbia</td>\n      <td>Dc</td>\n    </tr>\n    <tr>\n      <th>27958</th>\n      <td>crm manager</td>\n      <td>5-7 years</td>\n      <td>2 - 4 years</td>\n      <td>Some college</td>\n      <td>Woman</td>\n      <td>White</td>\n      <td>25-34</td>\n      <td>accounting, banking &amp; finance</td>\n      <td>57000.0</td>\n      <td>0.0</td>\n      <td>70826.723094</td>\n      <td>United Kingdom</td>\n      <td>Other</td>\n      <td>London</td>\n    </tr>\n    <tr>\n      <th>27960</th>\n      <td>junior data analyst</td>\n      <td>21 - 30 years</td>\n      <td>1 year or less</td>\n      <td>College degree</td>\n      <td>Man</td>\n      <td>White</td>\n      <td>45-54</td>\n      <td>computing or tech</td>\n      <td>65000.0</td>\n      <td>0.0</td>\n      <td>65000.000000</td>\n      <td>United States</td>\n      <td>Virginia</td>\n      <td>Richmond</td>\n    </tr>\n  </tbody>\n</table>\n<p>26872 rows × 14 columns</p>\n</div>"
     },
     "execution_count": 58,
     "metadata": {},
     "output_type": "execute_result"
    }
   ],
   "source": [
    "df"
   ],
   "metadata": {
    "collapsed": false,
    "ExecuteTime": {
     "end_time": "2023-06-22T12:29:06.183018600Z",
     "start_time": "2023-06-22T12:29:06.098822200Z"
    }
   }
  },
  {
   "cell_type": "code",
   "execution_count": 59,
   "outputs": [
    {
     "data": {
      "text/plain": "Index(['Job title',\n       'How many years of professional work experience do you have overall?',\n       'How many years of professional work experience do you have in your field?',\n       'What is your highest level of education completed?',\n       'What is your gender?', 'What is your race? (Choose all that apply.)',\n       'Age', 'Industry', 'Salary', 'Bonus', 'total_salary', 'Country',\n       'State', 'City'],\n      dtype='object')"
     },
     "execution_count": 59,
     "metadata": {},
     "output_type": "execute_result"
    }
   ],
   "source": [
    "df.columns"
   ],
   "metadata": {
    "collapsed": false,
    "ExecuteTime": {
     "end_time": "2023-06-22T12:29:06.183018600Z",
     "start_time": "2023-06-22T12:29:06.118428200Z"
    }
   }
  },
  {
   "cell_type": "markdown",
   "source": [
    "## Overall experience column"
   ],
   "metadata": {
    "collapsed": false
   }
  },
  {
   "cell_type": "code",
   "execution_count": 60,
   "outputs": [],
   "source": [
    "df['Overall_experience'] = df['How many years of professional work experience do you have overall?']\n",
    "df.drop('How many years of professional work experience do you have overall?', axis=1, inplace=True)"
   ],
   "metadata": {
    "collapsed": false,
    "ExecuteTime": {
     "end_time": "2023-06-22T12:29:06.184014300Z",
     "start_time": "2023-06-22T12:29:06.134449900Z"
    }
   }
  },
  {
   "cell_type": "code",
   "execution_count": 61,
   "outputs": [
    {
     "data": {
      "text/plain": "0"
     },
     "execution_count": 61,
     "metadata": {},
     "output_type": "execute_result"
    }
   ],
   "source": [
    "df['Overall_experience'].isna().sum()"
   ],
   "metadata": {
    "collapsed": false,
    "ExecuteTime": {
     "end_time": "2023-06-22T12:29:06.185013800Z",
     "start_time": "2023-06-22T12:29:06.148956600Z"
    }
   }
  },
  {
   "cell_type": "code",
   "execution_count": 62,
   "outputs": [
    {
     "data": {
      "text/plain": "11 - 20 years       9267\n8 - 10 years        5169\n5-7 years           4657\n21 - 30 years       3505\n2 - 4 years         2837\n31 - 40 years        841\n1 year or less       477\n41 years or more     119\nName: Overall_experience, dtype: int64"
     },
     "execution_count": 62,
     "metadata": {},
     "output_type": "execute_result"
    }
   ],
   "source": [
    "# like the age columns it looks good and doesn't need any cleaning\n",
    "df['Overall_experience'].value_counts()"
   ],
   "metadata": {
    "collapsed": false,
    "ExecuteTime": {
     "end_time": "2023-06-22T12:29:06.194523600Z",
     "start_time": "2023-06-22T12:29:06.163981400Z"
    }
   }
  },
  {
   "cell_type": "markdown",
   "source": [
    "## Field experience column"
   ],
   "metadata": {
    "collapsed": false
   }
  },
  {
   "cell_type": "code",
   "execution_count": 63,
   "outputs": [],
   "source": [
    "df['Field_experience'] = df['How many years of professional work experience do you have in your field?']\n",
    "df.drop('How many years of professional work experience do you have in your field?', axis=1, inplace=True)"
   ],
   "metadata": {
    "collapsed": false,
    "ExecuteTime": {
     "end_time": "2023-06-22T12:29:06.194523600Z",
     "start_time": "2023-06-22T12:29:06.182016200Z"
    }
   }
  },
  {
   "cell_type": "code",
   "execution_count": 64,
   "outputs": [
    {
     "data": {
      "text/plain": "0"
     },
     "execution_count": 64,
     "metadata": {},
     "output_type": "execute_result"
    }
   ],
   "source": [
    "df['Field_experience'].isna().sum()"
   ],
   "metadata": {
    "collapsed": false,
    "ExecuteTime": {
     "end_time": "2023-06-22T12:29:06.285983900Z",
     "start_time": "2023-06-22T12:29:06.198526200Z"
    }
   }
  },
  {
   "cell_type": "code",
   "execution_count": 65,
   "outputs": [
    {
     "data": {
      "text/plain": "11 - 20 years       6310\n5-7 years           6261\n2 - 4 years         5919\n8 - 10 years        4790\n21 - 30 years       1797\n1 year or less      1386\n31 - 40 years        371\n41 years or more      38\nName: Field_experience, dtype: int64"
     },
     "execution_count": 65,
     "metadata": {},
     "output_type": "execute_result"
    }
   ],
   "source": [
    "#agian it looks good and doesn't need any cleaning\n",
    "df['Field_experience'].value_counts()"
   ],
   "metadata": {
    "collapsed": false,
    "ExecuteTime": {
     "end_time": "2023-06-22T12:29:06.349108900Z",
     "start_time": "2023-06-22T12:29:06.211266400Z"
    }
   }
  },
  {
   "cell_type": "markdown",
   "source": [
    "## Degree column"
   ],
   "metadata": {
    "collapsed": false
   }
  },
  {
   "cell_type": "code",
   "execution_count": 66,
   "outputs": [],
   "source": [
    "df['Degree'] = df['What is your highest level of education completed?']\n",
    "df.drop('What is your highest level of education completed?', axis=1, inplace=True)"
   ],
   "metadata": {
    "collapsed": false,
    "ExecuteTime": {
     "end_time": "2023-06-22T12:29:06.380318600Z",
     "start_time": "2023-06-22T12:29:06.227745300Z"
    }
   }
  },
  {
   "cell_type": "code",
   "execution_count": 67,
   "outputs": [],
   "source": [
    "df['Degree'].isna().sum()\n",
    "# drop null values since they are only 195\n",
    "df.dropna(subset=['Degree'], inplace=True)"
   ],
   "metadata": {
    "collapsed": false,
    "ExecuteTime": {
     "end_time": "2023-06-22T12:29:06.392747Z",
     "start_time": "2023-06-22T12:29:06.243774700Z"
    }
   }
  },
  {
   "cell_type": "code",
   "execution_count": 68,
   "outputs": [
    {
     "data": {
      "text/plain": "College degree                        13060\nMaster's degree                        8438\nSome college                           1967\nPhD                                    1349\nProfessional degree (MD, JD, etc.)     1278\nHigh School                             585\nName: Degree, dtype: int64"
     },
     "execution_count": 68,
     "metadata": {},
     "output_type": "execute_result"
    }
   ],
   "source": [
    "# nothing bad here\n",
    "df['Degree'].value_counts()"
   ],
   "metadata": {
    "collapsed": false,
    "ExecuteTime": {
     "end_time": "2023-06-22T12:29:06.393746700Z",
     "start_time": "2023-06-22T12:29:06.277442300Z"
    }
   }
  },
  {
   "cell_type": "markdown",
   "source": [
    "# Gender column"
   ],
   "metadata": {
    "collapsed": false
   }
  },
  {
   "cell_type": "code",
   "execution_count": 69,
   "outputs": [],
   "source": [
    "df['Gender'] = df['What is your gender?']\n",
    "df.drop('What is your gender?', axis=1, inplace=True)"
   ],
   "metadata": {
    "collapsed": false,
    "ExecuteTime": {
     "end_time": "2023-06-22T12:29:06.393746700Z",
     "start_time": "2023-06-22T12:29:06.290469Z"
    }
   }
  },
  {
   "cell_type": "code",
   "execution_count": 70,
   "outputs": [],
   "source": [
    "df['Gender'].isna().sum()\n",
    "# drop null values\n",
    "df.dropna(subset=['Gender'], inplace=True)"
   ],
   "metadata": {
    "collapsed": false,
    "ExecuteTime": {
     "end_time": "2023-06-22T12:29:06.481172500Z",
     "start_time": "2023-06-22T12:29:06.309091500Z"
    }
   }
  },
  {
   "cell_type": "code",
   "execution_count": 71,
   "outputs": [
    {
     "data": {
      "text/plain": "Woman                            20506\nMan                               5054\nNon-binary                         719\nOther or prefer not to answer      272\nPrefer not to answer                 1\nName: Gender, dtype: int64"
     },
     "execution_count": 71,
     "metadata": {},
     "output_type": "execute_result"
    }
   ],
   "source": [
    "df['Gender'].value_counts()"
   ],
   "metadata": {
    "collapsed": false,
    "ExecuteTime": {
     "end_time": "2023-06-22T12:29:06.481172500Z",
     "start_time": "2023-06-22T12:29:06.349108900Z"
    }
   }
  },
  {
   "cell_type": "code",
   "execution_count": 72,
   "outputs": [],
   "source": [
    "#get the 2 most common values in the gender column now using slicing\n",
    "Genders = dict(df['Gender'].value_counts()[0:2])\n",
    "df = df[df['Gender'].isin(Genders.keys())]"
   ],
   "metadata": {
    "collapsed": false,
    "ExecuteTime": {
     "end_time": "2023-06-22T12:29:06.482172Z",
     "start_time": "2023-06-22T12:29:06.353657300Z"
    }
   }
  },
  {
   "cell_type": "code",
   "execution_count": 73,
   "outputs": [
    {
     "data": {
      "text/plain": "Woman    20506\nMan       5054\nName: Gender, dtype: int64"
     },
     "execution_count": 73,
     "metadata": {},
     "output_type": "execute_result"
    }
   ],
   "source": [
    "#check the gender column\n",
    "df['Gender'].value_counts()"
   ],
   "metadata": {
    "collapsed": false,
    "ExecuteTime": {
     "end_time": "2023-06-22T12:29:06.482172Z",
     "start_time": "2023-06-22T12:29:06.368183400Z"
    }
   }
  },
  {
   "cell_type": "markdown",
   "source": [
    "## Race column"
   ],
   "metadata": {
    "collapsed": false
   }
  },
  {
   "cell_type": "code",
   "execution_count": 74,
   "outputs": [],
   "source": [
    "df['Race'] = df['What is your race? (Choose all that apply.)']\n",
    "df.drop('What is your race? (Choose all that apply.)', axis=1, inplace=True)"
   ],
   "metadata": {
    "collapsed": false,
    "ExecuteTime": {
     "end_time": "2023-06-22T12:29:06.482172Z",
     "start_time": "2023-06-22T12:29:06.384328300Z"
    }
   }
  },
  {
   "cell_type": "code",
   "execution_count": 75,
   "outputs": [],
   "source": [
    "df['Race'].isna().sum()\n",
    "# drop null values\n",
    "df.dropna(subset=['Race'], inplace=True)"
   ],
   "metadata": {
    "collapsed": false,
    "ExecuteTime": {
     "end_time": "2023-06-22T12:29:06.484141900Z",
     "start_time": "2023-06-22T12:29:06.405269400Z"
    }
   }
  },
  {
   "cell_type": "code",
   "execution_count": 76,
   "outputs": [
    {
     "data": {
      "text/plain": "White                                                                                                                            21457\nAsian or Asian American                                                                                                           1236\nBlack or African American                                                                                                          619\nHispanic, Latino, or Spanish origin                                                                                                527\nAnother option not listed here or prefer not to answer                                                                             429\nHispanic, Latino, or Spanish origin, White                                                                                         348\nAsian or Asian American, White                                                                                                     317\nBlack or African American, White                                                                                                   111\nMiddle Eastern or Northern African, White                                                                                           71\nNative American or Alaska Native, White                                                                                             60\nMiddle Eastern or Northern African                                                                                                  57\nWhite, Another option not listed here or prefer not to answer                                                                       51\nNative American or Alaska Native                                                                                                    35\nBlack or African American, Hispanic, Latino, or Spanish origin                                                                      25\nAsian or Asian American, Hispanic, Latino, or Spanish origin                                                                        13\nBlack or African American, Hispanic, Latino, or Spanish origin, White                                                               11\nAsian or Asian American, Hispanic, Latino, or Spanish origin, White                                                                  9\nHispanic, Latino, or Spanish origin, Native American or Alaska Native, White                                                         9\nAsian or Asian American, Another option not listed here or prefer not to answer                                                      9\nHispanic, Latino, or Spanish origin, Native American or Alaska Native                                                                9\nAsian or Asian American, Black or African American                                                                                   7\nAsian or Asian American, White, Another option not listed here or prefer not to answer                                               6\nAsian or Asian American, Middle Eastern or Northern African                                                                          6\nAsian or Asian American, Black or African American, White                                                                            6\nHispanic, Latino, or Spanish origin, Another option not listed here or prefer not to answer                                          6\nBlack or African American, Native American or Alaska Native, White                                                                   5\nAsian or Asian American, Native American or Alaska Native, White                                                                     4\nBlack or African American, Middle Eastern or Northern African, White                                                                 4\nHispanic, Latino, or Spanish origin, Middle Eastern or Northern African, White                                                       3\nBlack or African American, Middle Eastern or Northern African                                                                        2\nBlack or African American, Hispanic, Latino, or Spanish origin, Native American or Alaska Native, White                              2\nBlack or African American, Another option not listed here or prefer not to answer                                                    2\nHispanic, Latino, or Spanish origin, Middle Eastern or Northern African                                                              2\nMiddle Eastern or Northern African, White, Another option not listed here or prefer not to answer                                    2\nMiddle Eastern or Northern African, Native American or Alaska Native                                                                 1\nAsian or Asian American, Hispanic, Latino, or Spanish origin, Another option not listed here or prefer not to answer                 1\nAsian or Asian American, Native American or Alaska Native                                                                            1\nHispanic, Latino, or Spanish origin, Native American or Alaska Native, Another option not listed here or prefer not to answer        1\nNative American or Alaska Native, White, Another option not listed here or prefer not to answer                                      1\nAsian or Asian American, Middle Eastern or Northern African, White                                                                   1\nMiddle Eastern or Northern African, Native American or Alaska Native, White                                                          1\nAsian or Asian American, Hispanic, Latino, or Spanish origin, Native American or Alaska Native, White                                1\nNative American or Alaska Native, Another option not listed here or prefer not to answer                                             1\nBlack or African American, Middle Eastern or Northern African, Native American or Alaska Native, White                               1\nAsian or Asian American, Hispanic, Latino, or Spanish origin, White, Another option not listed here or prefer not to answer          1\nName: Race, dtype: int64"
     },
     "execution_count": 76,
     "metadata": {},
     "output_type": "execute_result"
    }
   ],
   "source": [
    "df['Race'].value_counts()"
   ],
   "metadata": {
    "collapsed": false,
    "ExecuteTime": {
     "end_time": "2023-06-22T12:29:06.485142Z",
     "start_time": "2023-06-22T12:29:06.436473400Z"
    }
   }
  },
  {
   "cell_type": "code",
   "execution_count": 77,
   "outputs": [
    {
     "data": {
      "text/plain": "                                Job title    Age  \\\n0      research and instruction librarian  25-34   \n2                    marketing specialist  25-34   \n3                         program manager  25-34   \n4                      accounting manager  25-34   \n5          scholarly publishing librarian  25-34   \n...                                   ...    ...   \n27955                            waitress  18-24   \n27956                       porting agent  35-44   \n27957             post-doctoral associate  25-34   \n27958                         crm manager  25-34   \n27960                 junior data analyst  45-54   \n\n                            Industry   Salary    Bonus  total_salary  \\\n0       education (higher education)  55000.0      0.0  55000.000000   \n2      accounting, banking & finance  34000.0      0.0  34000.000000   \n3                         nonprofits  62000.0   3000.0  65000.000000   \n4      accounting, banking & finance  60000.0   7000.0  67000.000000   \n5       education (higher education)  62000.0      0.0  62000.000000   \n...                              ...      ...      ...           ...   \n27955           hospitality & events  35000.0  10000.0  45000.000000   \n27956              computing or tech  60000.0   5000.0  65000.000000   \n27957                 research / gov  83000.0      0.0  83000.000000   \n27958  accounting, banking & finance  57000.0      0.0  70826.723094   \n27960              computing or tech  65000.0      0.0  65000.000000   \n\n              Country                 State         City Overall_experience  \\\n0       United States         Massachusetts       Boston          5-7 years   \n2       United States             Tennessee  Chattanooga        2 - 4 years   \n3       United States             Wisconsin    Milwaukee       8 - 10 years   \n4       United States        South Carolina   Greenville       8 - 10 years   \n5       United States         New Hampshire      Hanover       8 - 10 years   \n...               ...                   ...          ...                ...   \n27955   United States              New York    Rochester          5-7 years   \n27956   United States               Georgia      Atlanta      21 - 30 years   \n27957   United States  District of Columbia           Dc        2 - 4 years   \n27958  United Kingdom                 Other       London          5-7 years   \n27960   United States              Virginia     Richmond      21 - 30 years   \n\n      Field_experience           Degree Gender  \\\n0            5-7 years  Master's degree  Woman   \n2          2 - 4 years   College degree  Woman   \n3            5-7 years   College degree  Woman   \n4            5-7 years   College degree  Woman   \n5          2 - 4 years  Master's degree    Man   \n...                ...              ...    ...   \n27955      2 - 4 years     Some college  Woman   \n27956      2 - 4 years     Some college    Man   \n27957      2 - 4 years              PhD    Man   \n27958      2 - 4 years     Some college  Woman   \n27960   1 year or less   College degree    Man   \n\n                                      Race  \n0                                    White  \n2                                    White  \n3                                    White  \n4                                    White  \n5                                    White  \n...                                    ...  \n27955                                White  \n27956  Hispanic, Latino, or Spanish origin  \n27957                                White  \n27958                                White  \n27960                                White  \n\n[25471 rows x 14 columns]",
      "text/html": "<div>\n<style scoped>\n    .dataframe tbody tr th:only-of-type {\n        vertical-align: middle;\n    }\n\n    .dataframe tbody tr th {\n        vertical-align: top;\n    }\n\n    .dataframe thead th {\n        text-align: right;\n    }\n</style>\n<table border=\"1\" class=\"dataframe\">\n  <thead>\n    <tr style=\"text-align: right;\">\n      <th></th>\n      <th>Job title</th>\n      <th>Age</th>\n      <th>Industry</th>\n      <th>Salary</th>\n      <th>Bonus</th>\n      <th>total_salary</th>\n      <th>Country</th>\n      <th>State</th>\n      <th>City</th>\n      <th>Overall_experience</th>\n      <th>Field_experience</th>\n      <th>Degree</th>\n      <th>Gender</th>\n      <th>Race</th>\n    </tr>\n  </thead>\n  <tbody>\n    <tr>\n      <th>0</th>\n      <td>research and instruction librarian</td>\n      <td>25-34</td>\n      <td>education (higher education)</td>\n      <td>55000.0</td>\n      <td>0.0</td>\n      <td>55000.000000</td>\n      <td>United States</td>\n      <td>Massachusetts</td>\n      <td>Boston</td>\n      <td>5-7 years</td>\n      <td>5-7 years</td>\n      <td>Master's degree</td>\n      <td>Woman</td>\n      <td>White</td>\n    </tr>\n    <tr>\n      <th>2</th>\n      <td>marketing specialist</td>\n      <td>25-34</td>\n      <td>accounting, banking &amp; finance</td>\n      <td>34000.0</td>\n      <td>0.0</td>\n      <td>34000.000000</td>\n      <td>United States</td>\n      <td>Tennessee</td>\n      <td>Chattanooga</td>\n      <td>2 - 4 years</td>\n      <td>2 - 4 years</td>\n      <td>College degree</td>\n      <td>Woman</td>\n      <td>White</td>\n    </tr>\n    <tr>\n      <th>3</th>\n      <td>program manager</td>\n      <td>25-34</td>\n      <td>nonprofits</td>\n      <td>62000.0</td>\n      <td>3000.0</td>\n      <td>65000.000000</td>\n      <td>United States</td>\n      <td>Wisconsin</td>\n      <td>Milwaukee</td>\n      <td>8 - 10 years</td>\n      <td>5-7 years</td>\n      <td>College degree</td>\n      <td>Woman</td>\n      <td>White</td>\n    </tr>\n    <tr>\n      <th>4</th>\n      <td>accounting manager</td>\n      <td>25-34</td>\n      <td>accounting, banking &amp; finance</td>\n      <td>60000.0</td>\n      <td>7000.0</td>\n      <td>67000.000000</td>\n      <td>United States</td>\n      <td>South Carolina</td>\n      <td>Greenville</td>\n      <td>8 - 10 years</td>\n      <td>5-7 years</td>\n      <td>College degree</td>\n      <td>Woman</td>\n      <td>White</td>\n    </tr>\n    <tr>\n      <th>5</th>\n      <td>scholarly publishing librarian</td>\n      <td>25-34</td>\n      <td>education (higher education)</td>\n      <td>62000.0</td>\n      <td>0.0</td>\n      <td>62000.000000</td>\n      <td>United States</td>\n      <td>New Hampshire</td>\n      <td>Hanover</td>\n      <td>8 - 10 years</td>\n      <td>2 - 4 years</td>\n      <td>Master's degree</td>\n      <td>Man</td>\n      <td>White</td>\n    </tr>\n    <tr>\n      <th>...</th>\n      <td>...</td>\n      <td>...</td>\n      <td>...</td>\n      <td>...</td>\n      <td>...</td>\n      <td>...</td>\n      <td>...</td>\n      <td>...</td>\n      <td>...</td>\n      <td>...</td>\n      <td>...</td>\n      <td>...</td>\n      <td>...</td>\n      <td>...</td>\n    </tr>\n    <tr>\n      <th>27955</th>\n      <td>waitress</td>\n      <td>18-24</td>\n      <td>hospitality &amp; events</td>\n      <td>35000.0</td>\n      <td>10000.0</td>\n      <td>45000.000000</td>\n      <td>United States</td>\n      <td>New York</td>\n      <td>Rochester</td>\n      <td>5-7 years</td>\n      <td>2 - 4 years</td>\n      <td>Some college</td>\n      <td>Woman</td>\n      <td>White</td>\n    </tr>\n    <tr>\n      <th>27956</th>\n      <td>porting agent</td>\n      <td>35-44</td>\n      <td>computing or tech</td>\n      <td>60000.0</td>\n      <td>5000.0</td>\n      <td>65000.000000</td>\n      <td>United States</td>\n      <td>Georgia</td>\n      <td>Atlanta</td>\n      <td>21 - 30 years</td>\n      <td>2 - 4 years</td>\n      <td>Some college</td>\n      <td>Man</td>\n      <td>Hispanic, Latino, or Spanish origin</td>\n    </tr>\n    <tr>\n      <th>27957</th>\n      <td>post-doctoral associate</td>\n      <td>25-34</td>\n      <td>research / gov</td>\n      <td>83000.0</td>\n      <td>0.0</td>\n      <td>83000.000000</td>\n      <td>United States</td>\n      <td>District of Columbia</td>\n      <td>Dc</td>\n      <td>2 - 4 years</td>\n      <td>2 - 4 years</td>\n      <td>PhD</td>\n      <td>Man</td>\n      <td>White</td>\n    </tr>\n    <tr>\n      <th>27958</th>\n      <td>crm manager</td>\n      <td>25-34</td>\n      <td>accounting, banking &amp; finance</td>\n      <td>57000.0</td>\n      <td>0.0</td>\n      <td>70826.723094</td>\n      <td>United Kingdom</td>\n      <td>Other</td>\n      <td>London</td>\n      <td>5-7 years</td>\n      <td>2 - 4 years</td>\n      <td>Some college</td>\n      <td>Woman</td>\n      <td>White</td>\n    </tr>\n    <tr>\n      <th>27960</th>\n      <td>junior data analyst</td>\n      <td>45-54</td>\n      <td>computing or tech</td>\n      <td>65000.0</td>\n      <td>0.0</td>\n      <td>65000.000000</td>\n      <td>United States</td>\n      <td>Virginia</td>\n      <td>Richmond</td>\n      <td>21 - 30 years</td>\n      <td>1 year or less</td>\n      <td>College degree</td>\n      <td>Man</td>\n      <td>White</td>\n    </tr>\n  </tbody>\n</table>\n<p>25471 rows × 14 columns</p>\n</div>"
     },
     "execution_count": 77,
     "metadata": {},
     "output_type": "execute_result"
    }
   ],
   "source": [
    "df"
   ],
   "metadata": {
    "collapsed": false,
    "ExecuteTime": {
     "end_time": "2023-06-22T12:29:06.485142Z",
     "start_time": "2023-06-22T12:29:06.446993300Z"
    }
   }
  },
  {
   "cell_type": "code",
   "execution_count": 78,
   "outputs": [
    {
     "data": {
      "text/plain": "Job title             0\nAge                   0\nIndustry              0\nSalary                0\nBonus                 0\ntotal_salary          0\nCountry               0\nState                 0\nCity                  0\nOverall_experience    0\nField_experience      0\nDegree                0\nGender                0\nRace                  0\ndtype: int64"
     },
     "execution_count": 78,
     "metadata": {},
     "output_type": "execute_result"
    }
   ],
   "source": [
    "df.isna().sum()"
   ],
   "metadata": {
    "collapsed": false,
    "ExecuteTime": {
     "end_time": "2023-06-22T12:29:06.570612300Z",
     "start_time": "2023-06-22T12:29:06.480186300Z"
    }
   }
  },
  {
   "cell_type": "code",
   "execution_count": 79,
   "outputs": [],
   "source": [
    "df.to_csv('Survey_data_cleaned.csv', index=False)"
   ],
   "metadata": {
    "collapsed": false,
    "ExecuteTime": {
     "end_time": "2023-06-22T12:29:06.716605900Z",
     "start_time": "2023-06-22T12:29:06.528497300Z"
    }
   }
  }
 ],
 "metadata": {
  "kernelspec": {
   "display_name": "Python 3",
   "language": "python",
   "name": "python3"
  },
  "language_info": {
   "codemirror_mode": {
    "name": "ipython",
    "version": 2
   },
   "file_extension": ".py",
   "mimetype": "text/x-python",
   "name": "python",
   "nbconvert_exporter": "python",
   "pygments_lexer": "ipython2",
   "version": "2.7.6"
  }
 },
 "nbformat": 4,
 "nbformat_minor": 0
}
